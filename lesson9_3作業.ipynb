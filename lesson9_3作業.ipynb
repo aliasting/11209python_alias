{
 "cells": [
  {
   "cell_type": "code",
   "execution_count": null,
   "metadata": {},
   "outputs": [],
   "source": [
    "- 猜中要告知猜了幾次\n",
    "- 沒猜中要有提醒\n",
    "import random\n",
    "min = 1\n",
    "max = 100\n",
    "count = 0\n",
    "target = random.randint(min, max)\n",
    "print(\"===============猜數字遊戲=================:\\n\")\n",
    "while(True):\n",
    "   keyin = input(f\"猜數字範圍{min}~{max}\")\n",
    "'''例如:\n",
    "要猜的數值是:34\n",
    "\n",
    "猜數字範圍1~100:50\n",
    "提示:\n",
    "再小一點\n",
    "您已經猜了1次\n",
    "\n",
    "猜數字範圍1~49:10\n",
    "提示:\n",
    "再大一點\n",
    "您已經猜了2次\n",
    "猜數字範圍11~49:34\n",
    "\n",
    "您猜中了,答案是34\n",
    "您總共猜了3次\n",
    "'''"
   ]
  },
  {
   "cell_type": "code",
   "execution_count": null,
   "metadata": {},
   "outputs": [],
   "source": [
    "import random  #師9/26解lesson10_1\n",
    "min = 1\n",
    "max = 100\n",
    "count = 0\n",
    "target = random.randint(min, max)\n",
    "print(\"===============猜數字遊戲=================:\\n\")\n",
    "while(True):\n",
    "    count += 1\n",
    "    keyin = int(input(f\"猜數字範圍{min}~{max}\"))\n",
    "    if (keyin >= 1 and keyin <= max):\n",
    "        #if (1 <= keyin <= max):\n",
    "        if(keyin == target):\n",
    "            print(f\"賓果!猜對了, 答案是:{target}\")\n",
    "            print(f\"總共猜了{count}次\")\n",
    "            break\n",
    "        elif (keyin > target):\n",
    "            print(\"再小一點\")\n",
    "            max = keyin - 1\n",
    "            \n",
    "        elif (keyin < target):\n",
    "            print(\"再大一點\")\n",
    "            min = keyin + 1\n",
    "            \n",
    "        print(f\"您已經猜了{count}次\")\n",
    "    else:\n",
    "        print(\"請輸入提示範圍內的數字\")\n",
    "\n",
    "print(\"遊戲結束!\")\n",
    " "
   ]
  },
  {
   "cell_type": "code",
   "execution_count": 4,
   "metadata": {},
   "outputs": [
    {
     "name": "stdout",
     "output_type": "stream",
     "text": [
      "===============猜數字遊戲=================:\n",
      "\n",
      "數字過大，請猜小一點\n",
      "您已經猜了1次\n",
      "數字過小，請猜大一點\n",
      "您已經猜了2次\n",
      "猜對了，遊戲結束.\n",
      "總共猜了3次\n"
     ]
    }
   ],
   "source": [
    "import random #作業\n",
    "min = 1\n",
    "max = 100\n",
    "count = 0\n",
    "target = random.randint(min, max)\n",
    "print(\"===============猜數字遊戲=================:\\n\")\n",
    "while(True):\n",
    "    count += 1\n",
    "    keyin = int(input(f\"猜數字範圍{min}~{max}\"))\n",
    "    if keyin > max or keyin < min:\n",
    "       print(f\"數字錯了,請重新輸入\") \n",
    "    elif keyin == target:\n",
    "        print(f\"猜對了，遊戲結束.\")\n",
    "        print(f\"總共猜了{count}次\")\n",
    "        break\n",
    "\n",
    "    elif keyin > target:\n",
    "        print('數字過大，請猜小一點')\n",
    "        max = keyin\n",
    "\n",
    "    else:\n",
    "        print('數字過小，請猜大一點')\n",
    "        min = keyin\n",
    "    print(f\"您已經猜了{count}次\")"
   ]
  }
 ],
 "metadata": {
  "kernelspec": {
   "display_name": "Python 3",
   "language": "python",
   "name": "python3"
  },
  "language_info": {
   "codemirror_mode": {
    "name": "ipython",
    "version": 3
   },
   "file_extension": ".py",
   "mimetype": "text/x-python",
   "name": "python",
   "nbconvert_exporter": "python",
   "pygments_lexer": "ipython3",
   "version": "3.10.8"
  },
  "orig_nbformat": 4
 },
 "nbformat": 4,
 "nbformat_minor": 2
}
