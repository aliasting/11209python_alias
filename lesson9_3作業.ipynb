{
 "cells": [
  {
   "cell_type": "code",
   "execution_count": null,
   "metadata": {},
   "outputs": [],
   "source": [
    "- 猜中要告知猜了幾次\n",
    "- 沒猜中要有提醒\n",
    "import random\n",
    "min = 1\n",
    "max = 100\n",
    "count = 0\n",
    "target = random.randint(min, max)\n",
    "print(\"===============猜數字遊戲=================:\\n\")\n",
    "while(True):\n",
    "   keyin = input(f\"猜數字範圍{min}~{max}\")\n",
    "例如:\n",
    "\n",
    "要猜的數值是:34\n",
    "\n",
    "猜數字範圍1~100:50\n",
    "提示:\n",
    "再小一點\n",
    "您已經猜了1次\n",
    "\n",
    "猜數字範圍1~49:10\n",
    "提示:\n",
    "再大一點\n",
    "您已經猜了2次\n",
    "猜數字範圍11~49:34\n",
    "\n",
    "您猜中了,答案是34\n",
    "您總共猜了3次\n"
   ]
  },
  {
   "cell_type": "code",
   "execution_count": null,
   "metadata": {},
   "outputs": [],
   "source": [
    "'''\n",
    "import random\n",
    "min = 1\n",
    "max = 100\n",
    "count = 0\n",
    "target = random.randint(min, max)\n",
    "print(\"===============猜數字遊戲=================:\\n\")\n",
    "while(True):\n",
    "   keyin = input(f\"猜數字範圍{min}~{max}\")\n",
    "'''\n",
    "import random \n",
    "target = random.randint(1,100)\n",
    "count = 0\n",
    "while count != target:\n",
    "    count = int(input(\"請猜測一個1-100間的數字 : \"))\n",
    "    \n",
    "    if count > target:\n"
   ]
  },
  {
   "cell_type": "code",
   "execution_count": null,
   "metadata": {},
   "outputs": [],
   "source": [
    "#猜數字\n",
    "import random\n",
    "ans = random.randint(1,100)\n",
    "guess = 0\n",
    "while guess != ans:\n",
    " \n",
    "    if guess > ans:\n",
    "        print(\"要再小一點\")\n",
    "    elif guess < ans:\n",
    "        print(\"要再大一點\")\n",
    "    else:\n",
    "        print(\"恭喜答對\")"
   ]
  },
  {
   "cell_type": "code",
   "execution_count": null,
   "metadata": {},
   "outputs": [],
   "source": []
  }
 ],
 "metadata": {
  "kernelspec": {
   "display_name": "Python 3",
   "language": "python",
   "name": "python3"
  },
  "language_info": {
   "codemirror_mode": {
    "name": "ipython",
    "version": 3
   },
   "file_extension": ".py",
   "mimetype": "text/x-python",
   "name": "python",
   "nbconvert_exporter": "python",
   "pygments_lexer": "ipython3",
   "version": "3.10.8"
  },
  "orig_nbformat": 4
 },
 "nbformat": 4,
 "nbformat_minor": 2
}
