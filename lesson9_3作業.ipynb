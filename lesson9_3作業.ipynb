{
 "cells": [
  {
   "cell_type": "code",
   "execution_count": null,
   "metadata": {},
   "outputs": [],
   "source": [
    "- 猜中要告知猜了幾次\n",
    "- 沒猜中要有提醒\n",
    "import random\n",
    "min = 1\n",
    "max = 100\n",
    "count = 0\n",
    "target = random.randint(min, max)\n",
    "print(\"===============猜數字遊戲=================:\\n\")\n",
    "while(True):\n",
    "   keyin = input(f\"猜數字範圍{min}~{max}\")\n",
    "例如:\n",
    "\n",
    "要猜的數值是:34\n",
    "\n",
    "猜數字範圍1~100:50\n",
    "提示:\n",
    "再小一點\n",
    "您已經猜了1次\n",
    "\n",
    "猜數字範圍1~49:10\n",
    "提示:\n",
    "再大一點\n",
    "您已經猜了2次\n",
    "猜數字範圍11~49:34\n",
    "\n",
    "您猜中了,答案是34\n",
    "您總共猜了3次\n",
    "\n",
    "\n",
    "\n",
    "     "
   ]
  }
 ],
 "metadata": {
  "language_info": {
   "name": "python"
  },
  "orig_nbformat": 4
 },
 "nbformat": 4,
 "nbformat_minor": 2
}
