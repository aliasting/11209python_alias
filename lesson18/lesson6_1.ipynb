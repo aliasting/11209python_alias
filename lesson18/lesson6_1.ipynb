{
 "cells": [
  {
   "cell_type": "code",
   "execution_count": null,
   "metadata": {},
   "outputs": [],
   "source": [
    "import yfinance as yf\n",
    "import pandas as pd\n",
    "# 讀取csv檔\n",
    "stock_list = pd.read_csv(儲存路徑 + '/stock_id.csv')\n",
    "stock_list.columns = ['stock_id', 'name']\n",
    "historical_data = pd.DataFrame()\n",
    "for i in stock_list.index:    \n",
    "    # 抓取股票資料\n",
    "    stock_id = stock_list.loc[i, 'stock_id'] + '.TW'\n",
    "    data = yf.Ticker(stock_id)\n",
    "    df = data.history(period=\"max\")\n",
    "    # 增加股票代號\n",
    "    df['stock_id'] = stock_list.loc[i, 'stock_id']\n",
    "    # 合併\n",
    "    historical_data = pd.concat([historical_data, df])\n",
    "    time.sleep(0.8)\n",
    "historical_data.to_csv(儲存路徑 + '/historical_data.csv', index=False)"
   ]
  },
  {
   "cell_type": "code",
   "execution_count": 3,
   "metadata": {},
   "outputs": [
    {
     "ename": "SyntaxError",
     "evalue": "invalid character '’' (U+2019) (3772241602.py, line 1)",
     "output_type": "error",
     "traceback": [
      "\u001b[1;36m  Cell \u001b[1;32mIn[3], line 1\u001b[1;36m\u001b[0m\n\u001b[1;33m    HTTPSConnectionPool(host=’query1.finance.yahoo.com’, port=443): Max retries exceeded with url: /v8/finance/chart/0050.TW?period1=-2208988800&period2=1606746234&interval=1d&includePrePost=False&events=div%2Csplits (Caused by NewConnectionError(': Failed to establish a new connection: [Errno 51] Network is unreachable'))\u001b[0m\n\u001b[1;37m                             ^\u001b[0m\n\u001b[1;31mSyntaxError\u001b[0m\u001b[1;31m:\u001b[0m invalid character '’' (U+2019)\n"
     ]
    }
   ],
   "source": [
    "HTTPSConnectionPool(host=’query1.finance.yahoo.com’, port=443): Max retries exceeded with url: /v8/finance/chart/0050.TW?period1=-2208988800&period2=1606746234&interval=1d&includePrePost=False&events=div%2Csplits (Caused by NewConnectionError(': Failed to establish a new connection: [Errno 51] Network is unreachable'))"
   ]
  }
 ],
 "metadata": {
  "kernelspec": {
   "display_name": ".venv",
   "language": "python",
   "name": "python3"
  },
  "language_info": {
   "codemirror_mode": {
    "name": "ipython",
    "version": 3
   },
   "file_extension": ".py",
   "mimetype": "text/x-python",
   "name": "python",
   "nbconvert_exporter": "python",
   "pygments_lexer": "ipython3",
   "version": "3.10.8"
  }
 },
 "nbformat": 4,
 "nbformat_minor": 2
}
