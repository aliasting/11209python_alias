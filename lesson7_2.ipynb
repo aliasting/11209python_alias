{
 "cells": [
  {
   "cell_type": "code",
   "execution_count": 4,
   "metadata": {},
   "outputs": [
    {
     "name": "stdout",
     "output_type": "stream",
     "text": [
      "您的 BMI數值為:25.53545,您的體重過重\n"
     ]
    }
   ],
   "source": [
    "#Homework:BMI值分析他人的身體狀況\n",
    "'''\n",
    "BMI值     <18.5    18.5-25   25-30   >30\n",
    "身體狀態   太輕     正常      過重    肥胖\n",
    "\n",
    "# bmi.py\n",
    "請輸入身高,單位為(公分):177\n",
    "請輸入體重,單位為(公斤):80\n",
    "\n",
    "您的BMI是25.53544\n",
    "print(您的體重過重)\n",
    "'''\n",
    "\n",
    "h = float(input(\"請輸入身高(公分)\" ))/100\n",
    "w = float(input(\"請輸入體重(公斤\" ))\n",
    "bmi = round(w/(h*h),5)\n",
    "if bmi < 18.5:\n",
    "   note = (\"您的體重太輕\") \n",
    "elif bmi >= 18.5 and bmi <= 25 :\n",
    "    note = (\"您的體重正常\") \n",
    "elif bmi >= 25 and bmi <= 30 :\n",
    "    note = (\"您的體重過重\") \n",
    "else:\n",
    "     bmi > 30\n",
    "     note = (\"您的體重肥胖\")  \n",
    " \n",
    "print(f\"您的 BMI數值為:{bmi},{note}\")"
   ]
  },
  {
   "cell_type": "code",
   "execution_count": 5,
   "metadata": {},
   "outputs": [
    {
     "name": "stdout",
     "output_type": "stream",
     "text": [
      "請輸入收縮壓:130\n",
      "請輸入舒張壓:91\n",
      "高血壓一期\n"
     ]
    }
   ],
   "source": [
    "#Homework 高血壓\n",
    "'''\n",
    "分類(2017 ACC/AHA/AAPA/)   收縮壓(mmHg)   關係   舒張壓(mmHg)\n",
    "      正常                  <120          且      <80\n",
    "    血壓升高                 120-129      且       <80\n",
    "    高血壓一期               130-139      或       80-89\n",
    "    高血壓二期               >=140        或       >=90\n",
    "    單純收縮期高血壓          >=130        且       <80\n",
    "'''\n",
    "import pyinputplus as pyip\n",
    "\n",
    "sbp = pyip.inputInt(prompt=\"請輸入收縮壓:\")\n",
    "print(sbp)\n",
    "dbp = pyip.inputInt(prompt=\"請輸入舒張壓:\")\n",
    "print(dbp)\n",
    "\n",
    "status = \"\"\n",
    "if sbp < 120 and dbp < 80:\n",
    "    status = \"正常\"\n",
    "elif sbp < 130 and dbp < 80:\n",
    "    status = \"血壓升高\"\n",
    "elif sbp >= 130 and dbp < 80:\n",
    "    status = \"單純收縮期高血壓\"\n",
    "elif sbp < 140 or (dbp>=80 and dbp<90):\n",
    "    status = \"高血壓一期\"\n",
    "elif sbp >= 140 or dbp >= 90 :\n",
    "    status = \"高血壓二期\"\n",
    "\n",
    "print(status)"
   ]
  },
  {
   "cell_type": "code",
   "execution_count": 10,
   "metadata": {},
   "outputs": [
    {
     "name": "stdout",
     "output_type": "stream",
     "text": [
      "請輸入收縮壓:129\n",
      "請輸入舒張壓:81\n",
      "高血壓一期\n"
     ]
    }
   ],
   "source": [
    "#Homework 高血壓\n",
    "'''\n",
    "分類(2017 ACC/AHA/AAPA/)   收縮壓(mmHg)   關係   舒張壓(mmHg)\n",
    "      正常                  <120          且      <80\n",
    "    血壓升高                 120-129      且       <80\n",
    "    高血壓一期               130-139      或       80-89\n",
    "    高血壓二期               >=140        或       >=90\n",
    "    單純收縮期高血壓          >=130        且       <80\n",
    "'''\n",
    "import pyinputplus as pyip\n",
    "\n",
    "sbp = pyip.inputInt(prompt=\"請輸入收縮壓:\")\n",
    "print(sbp)\n",
    "dbp = pyip.inputInt(prompt=\"請輸入舒張壓:\")\n",
    "print(dbp)\n",
    "\n",
    "status = \"\"\n",
    "if sbp < 120 and dbp <80:\n",
    "    status = '正常'\n",
    "elif (sbp <=120 and sbp<129)  and dbp <80:\n",
    "    status = '血壓升高'\n",
    "elif sbp >= 130 and dbp < 80: \n",
    "    status = \"單純收縮期高血壓\"\n",
    "elif (sbp <=130 and sbp<139) or (dbp>=80 and dbp<90):\n",
    "    status = \"高血壓一期\"\n",
    "elif sbp >= 140 or dbp >= 90 :\n",
    "    status = \"高血壓二期\"\n",
    "\n",
    "print(status)        \n",
    "\n"
   ]
  }
 ],
 "metadata": {
  "kernelspec": {
   "display_name": "Python 3",
   "language": "python",
   "name": "python3"
  },
  "language_info": {
   "codemirror_mode": {
    "name": "ipython",
    "version": 3
   },
   "file_extension": ".py",
   "mimetype": "text/x-python",
   "name": "python",
   "nbconvert_exporter": "python",
   "pygments_lexer": "ipython3",
   "version": "3.10.8"
  },
  "orig_nbformat": 4
 },
 "nbformat": 4,
 "nbformat_minor": 2
}
