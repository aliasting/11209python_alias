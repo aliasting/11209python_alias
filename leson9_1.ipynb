{
 "cells": [
  {
   "cell_type": "code",
   "execution_count": 1,
   "metadata": {},
   "outputs": [
    {
     "name": "stdout",
     "output_type": "stream",
     "text": [
      "請輸入第1個月份的存款:29800\n",
      "目前距離目標還差:10000\n",
      "=============\n",
      "請輸入第2個月份的存款:10000\n",
      "=============\n",
      "恭喜!已經存夠了,總共存了2月份總存款為:39800\n"
     ]
    }
   ],
   "source": [
    "#小明想要存錢買一輛機車,機車每輛39800元，他將每月存的錢輸入，當存款足夠買機車時，就顯示提示訊息告知。\n",
    "import pyinputplus as pyip\n",
    "\n",
    "month = 0\n",
    "deposit = 0\n",
    "while(deposit < 39800):\n",
    "    month += 1\n",
    "    input_value = pyip.inputInt(f\"請輸入第{month}個月份的存款:\")\n",
    "    print(input_value)\n",
    "    deposit += input_value\n",
    "    if deposit < 39800:\n",
    "        print(f\"目前距離目標還差:{39800-deposit}\")\n",
    "    print(\"=============\")\n",
    "\n",
    "print(f\"恭喜!已經存夠了,總共存了{month}月份總存款為:{deposit}\")"
   ]
  },
  {
   "cell_type": "code",
   "execution_count": 2,
   "metadata": {},
   "outputs": [
    {
     "name": "stdout",
     "output_type": "stream",
     "text": [
      "請輸入第1個月份的存款:5000\n",
      "目前距離目標還差:34800\n",
      "=============\n",
      "請輸入第2個月份的存款:8500\n",
      "目前距離目標還差:26300\n",
      "=============\n",
      "請輸入第3個月份的存款:8500\n",
      "目前距離目標還差:17800\n",
      "=============\n",
      "請輸入第4個月份的存款:20000\n",
      "=============\n",
      "恭喜!已經存夠了,總共存了4月份總存款為:42000\n"
     ]
    }
   ],
   "source": [
    "#小明想要存錢買一輛機車,機車每輛39800元，他將每月存的錢輸入，當存款足夠買機車時，就顯示提示訊息告知。\n",
    "import pyinputplus as pyip\n",
    "\n",
    "month = 0\n",
    "deposit = 0\n",
    "while(deposit < 39800):\n",
    "    month += 1\n",
    "    input_value = pyip.inputInt(f\"請輸入第{month}個月份的存款:\")\n",
    "    print(input_value)\n",
    "    deposit += input_value\n",
    "    if deposit < 39800:\n",
    "        print(f\"目前距離目標還差:{39800-deposit}\")\n",
    "    print(\"=============\")\n",
    "\n",
    "print(f\"恭喜!已經存夠了,總共存了{month}月份總存款為:{deposit}\")"
   ]
  },
  {
   "cell_type": "code",
   "execution_count": 3,
   "metadata": {},
   "outputs": [
    {
     "name": "stdout",
     "output_type": "stream",
     "text": [
      "a\n",
      "b\n"
     ]
    }
   ],
   "source": [
    "while(True):\n",
    "    stuff =input(\"請輸入小寫英文字[按q會離開]:\")\n",
    "    if stuff == 'q':\n",
    "        break\n",
    "    print(stuff)\n",
    "    "
   ]
  },
  {
   "cell_type": "code",
   "execution_count": 4,
   "metadata": {},
   "outputs": [
    {
     "name": "stdout",
     "output_type": "stream",
     "text": [
      "a\n",
      "b\n",
      "c\n"
     ]
    }
   ],
   "source": [
    "while(True):\n",
    "    stuff = input(\"請輸入小寫英文字[按q會離開]:\")\n",
    "    if stuff == 'q':\n",
    "        break\n",
    "    print(stuff)"
   ]
  },
  {
   "cell_type": "code",
   "execution_count": 5,
   "metadata": {},
   "outputs": [
    {
     "name": "stdout",
     "output_type": "stream",
     "text": [
      "55\n"
     ]
    }
   ],
   "source": [
    "while(True):\n",
    "    value = input(\"請輸入整數,輸入[q]會離開:\")\n",
    "    if value == 'q':\n",
    "        break\n",
    "    print(value)"
   ]
  },
  {
   "cell_type": "code",
   "execution_count": 8,
   "metadata": {},
   "outputs": [
    {
     "name": "stdout",
     "output_type": "stream",
     "text": [
      "5的平方是25\n"
     ]
    }
   ],
   "source": [
    "#奇數輸出平方\n",
    "#偶數不做任何動作\n",
    "#使用者不知道要執行幾次\n",
    "while(True):\n",
    "    keyin = input(\"請輸入整數,輸入[q]會離開:\")\n",
    "    if keyin == 'q':\n",
    "        break\n",
    "    value = int(keyin)\n",
    "    if value % 2 == 0:\n",
    "        pass\n",
    "    else:\n",
    "        print(f\"{value}的平方是{value ** 2}\")"
   ]
  },
  {
   "cell_type": "code",
   "execution_count": 9,
   "metadata": {},
   "outputs": [
    {
     "name": "stdout",
     "output_type": "stream",
     "text": [
      "不做動作,請重新輸入\n",
      "不做動作,請重新輸入\n",
      "5的平方是25\n",
      "5的平方是25\n"
     ]
    }
   ],
   "source": [
    "#奇數輸出平方\n",
    "#偶數不做任何動作\n",
    "while(True):\n",
    "    keyin = input(\"請輸入整數,輸入[q]會離開:\")\n",
    "    if keyin == 'q':\n",
    "        break\n",
    "    value = int(keyin)\n",
    "    if value % 2 == 0:\n",
    "        print(\"不做動作,請重新輸入\")\n",
    "        continue\n",
    "    else:\n",
    "        print(f\"{value}的平方是{value ** 2}\")"
   ]
  },
  {
   "cell_type": "code",
   "execution_count": 10,
   "metadata": {},
   "outputs": [
    {
     "name": "stdout",
     "output_type": "stream",
     "text": [
      "不作動作,請重新輸入\n",
      "不作動作,請重新輸入\n",
      "不作動作,請重新輸入\n",
      "3的平方是9\n",
      "5的平方是25\n",
      "7的平方是49\n",
      "9的平方是81\n"
     ]
    }
   ],
   "source": [
    "#奇數輸出平方\n",
    "#偶數不做任何動作\n",
    "while(True):\n",
    "    keyin = input(\"請輸入整數,輸入[q]會離開]:\")\n",
    "    if keyin == 'q':\n",
    "        break\n",
    "    value = int(keyin)\n",
    "    if value % 2 == 0:\n",
    "        print(\"不作動作,請重新輸入\")\n",
    "        continue\n",
    "    else:\n",
    "        print(f\"{value}的平方是{value ** 2}\")"
   ]
  }
 ],
 "metadata": {
  "kernelspec": {
   "display_name": "Python 3",
   "language": "python",
   "name": "python3"
  },
  "language_info": {
   "codemirror_mode": {
    "name": "ipython",
    "version": 3
   },
   "file_extension": ".py",
   "mimetype": "text/x-python",
   "name": "python",
   "nbconvert_exporter": "python",
   "pygments_lexer": "ipython3",
   "version": "3.10.8"
  },
  "orig_nbformat": 4
 },
 "nbformat": 4,
 "nbformat_minor": 2
}
