{
 "cells": [
  {
   "cell_type": "code",
   "execution_count": null,
   "metadata": {},
   "outputs": [],
   "source": [
    "'''\n",
    "打香腸規則：\n",
    "\n",
    "一次骰4個骰子\n",
    "如果有2個相同的數字，則另外2數加總。 e.g.1123=5\n",
    "如果有2對2個相同的數字，則較大對數加總。 e.g.1166=12\n",
    "如果有3個相同的數字 && 4個數都不同，就「作廢」。 e.g.1234、3331=作廢\n",
    "如果4個數皆相同，就「豹子」，比3.4.大。 e.g.3333 '''"
   ]
  },
  {
   "cell_type": "code",
   "execution_count": 8,
   "metadata": {},
   "outputs": [
    {
     "name": "stdout",
     "output_type": "stream",
     "text": [
      "1 1 1 1\n",
      "[4, 1, 5, 6]\n",
      "豹子\n",
      "遊戲結束\n"
     ]
    }
   ],
   "source": [
    "#  擲骰子遊戲\n",
    "\n",
    "import random\n",
    "import pyinputplus as pyip\n",
    "min = 1\n",
    "max = 6\n",
    "a1 = random.randint(min, max)\n",
    "a2 = random.randint(min, max)\n",
    "a3 = random.randint(min, max)\n",
    "a4 = random.randint(min, max)\n",
    "print(a1,a2,a3,a4)\n",
    "count=0\n",
    "\n",
    "while(True):\n",
    "        count = [random.randint(1, 6) for i in range(4)]     \n",
    "        print(count)\n",
    "        if a1 == a2 == a3 == a4:   \n",
    "            print(\"豹子\")\n",
    "            break\n",
    "        elif a1 == a2 == a3 or a1 == a2 == a4:    \n",
    "            print(\"此局作廢\")\n",
    "            continue\n",
    "        elif a1 == a3 == a4 or a2 == a3 == a4:\n",
    "            print(\"此局作廢\")\n",
    "            continue\n",
    "        elif a1 == a2:    \n",
    "            score=a3+a4\n",
    "            print(f\"得分:{score}\")\n",
    "            break\n",
    "        else:\n",
    "            answer = pyip.inputYesNo(prompt=\"還要繼續嗎?(y,n)\",yesVal='y',noVal='n')\n",
    "            if not (answer == 'y'):\n",
    "                  break\n",
    "print(\"遊戲結束\")\n",
    "            \n",
    "        \n"
   ]
  }
 ],
 "metadata": {
  "kernelspec": {
   "display_name": "Python 3",
   "language": "python",
   "name": "python3"
  },
  "language_info": {
   "codemirror_mode": {
    "name": "ipython",
    "version": 3
   },
   "file_extension": ".py",
   "mimetype": "text/x-python",
   "name": "python",
   "nbconvert_exporter": "python",
   "pygments_lexer": "ipython3",
   "version": "3.10.8"
  },
  "orig_nbformat": 4
 },
 "nbformat": 4,
 "nbformat_minor": 2
}
