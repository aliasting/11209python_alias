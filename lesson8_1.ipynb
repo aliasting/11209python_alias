{
 "cells": [
  {
   "cell_type": "code",
   "execution_count": 6,
   "metadata": {},
   "outputs": [
    {
     "name": "stdout",
     "output_type": "stream",
     "text": [
      "請輸入收縮壓:120\n",
      "請輸入舒張壓:95\n",
      "高血壓一期\n"
     ]
    }
   ],
   "source": [
    "import pyinputplus as pyip\n",
    "\n",
    "sbp = pyip.inputInt(prompt=\"請輸入收縮壓:\")\n",
    "print(sbp)\n",
    "dbp = pyip.inputInt(prompt=\"請輸入舒張壓:\")\n",
    "print(dbp)\n",
    "\n",
    "status = \"\"\n",
    "if sbp < 120 and dbp < 80:\n",
    "    status = \"正常\"\n",
    "elif sbp < 130 and dbp < 80:\n",
    "    status = \"血壓升高\"\n",
    "elif sbp < 140 or (dbp>=80 and dbp<90):\n",
    "    status = \"高血壓一期\"\n",
    "elif sbp >= 140 or dbp >= 90 :\n",
    "    status = \"高血壓二期\"\n",
    "\n",
    "if sbp >= 130 and dbp < 80:\n",
    "    status = \"單純收縮期高血壓\"\n",
    "    \n",
    "print(status)"
   ]
  },
  {
   "cell_type": "code",
   "execution_count": 2,
   "metadata": {},
   "outputs": [
    {
     "name": "stdout",
     "output_type": "stream",
     "text": [
      "請輸入收縮壓:135\n",
      "請輸入舒張壓:86\n",
      "高血壓一期\n"
     ]
    }
   ],
   "source": [
    "import pyinputplus as pyip\n",
    "\n",
    "sbp = pyip.inputInt(prompt=\"請輸入收縮壓:\")\n",
    "print(sbp)\n",
    "dbp = pyip.inputInt(prompt=\"請輸入舒張壓:\")\n",
    "print(dbp)\n",
    "\n",
    "status = \"\"\n",
    "if sbp < 120 and dbp < 80:\n",
    "    status = \"正常\"\n",
    "elif sbp < 130 and dbp < 80:\n",
    "    status = \"血壓升高\"\n",
    "elif sbp >= 130 and dbp < 80:\n",
    "    status = \"單純收縮期高血壓\"\n",
    "elif sbp < 140 or (dbp>=80 and dbp<90):\n",
    "    status = \"高血壓一期\"\n",
    "elif sbp >= 140 or dbp >= 90 :\n",
    "    status = \"高血壓二期\"\n",
    "\n",
    "print(status)"
   ]
  },
  {
   "cell_type": "code",
   "execution_count": null,
   "metadata": {},
   "outputs": [],
   "source": [
    "total = 0"
   ]
  }
 ],
 "metadata": {
  "kernelspec": {
   "display_name": "Python 3",
   "language": "python",
   "name": "python3"
  },
  "language_info": {
   "codemirror_mode": {
    "name": "ipython",
    "version": 3
   },
   "file_extension": ".py",
   "mimetype": "text/x-python",
   "name": "python",
   "nbconvert_exporter": "python",
   "pygments_lexer": "ipython3",
   "version": "3.10.8"
  },
  "orig_nbformat": 4
 },
 "nbformat": 4,
 "nbformat_minor": 2
}
