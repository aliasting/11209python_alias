{
 "cells": [
  {
   "cell_type": "code",
   "execution_count": 4,
   "metadata": {},
   "outputs": [
    {
     "name": "stdout",
     "output_type": "stream",
     "text": [
      "5050\n"
     ]
    }
   ],
   "source": [
    "#1~100的加總\n",
    "s = 0\n",
    "for i in range(101):\n",
    "    s += i\n",
    "print(s)\n"
   ]
  },
  {
   "cell_type": "code",
   "execution_count": 5,
   "metadata": {},
   "outputs": [
    {
     "name": "stdout",
     "output_type": "stream",
     "text": [
      "1+100=5050\n"
     ]
    }
   ],
   "source": [
    "#1~100的加總\n",
    "\n",
    "total = 0\n",
    "for i in range(1,101):\n",
    "    total += i\n",
    "\n",
    "print (f\"1+100={total}\")"
   ]
  },
  {
   "cell_type": "code",
   "execution_count": 7,
   "metadata": {},
   "outputs": [
    {
     "name": "stdout",
     "output_type": "stream",
     "text": [
      "請輸入起始值:5\n",
      "請輸入結束值:10\n",
      "5~10=45\n"
     ]
    }
   ],
   "source": [
    "#1~100的加總\n",
    "import pyinputplus as pyip\n",
    "\n",
    "start = pyip.inputInt(prompt=\"請輸入起始值:\")\n",
    "print(start)\n",
    "end = pyip.inputInt(prompt=\"請輸入結束值:\")\n",
    "print(end)\n",
    "\n",
    "total = 0\n",
    "for i in range(start,end+1):\n",
    "    total += i\n",
    "\n",
    "print (f\"{start}~{end}={total}\")"
   ]
  },
  {
   "cell_type": "code",
   "execution_count": 10,
   "metadata": {},
   "outputs": [
    {
     "name": "stdout",
     "output_type": "stream",
     "text": [
      "1\n",
      "2\n",
      "3\n",
      "4\n",
      "5\n",
      "6\n",
      "7\n",
      "8\n",
      "9\n"
     ]
    }
   ],
   "source": [
    "for i in range(1,10):\n",
    "    print(i)"
   ]
  },
  {
   "cell_type": "code",
   "execution_count": 8,
   "metadata": {},
   "outputs": [
    {
     "name": "stdout",
     "output_type": "stream",
     "text": [
      "i=1\n",
      "j=1,j=2,j=3,j=4,j=5,j=6,j=7,j=8,j=9,\n",
      "i=2\n",
      "j=1,j=2,j=3,j=4,j=5,j=6,j=7,j=8,j=9,\n",
      "i=3\n",
      "j=1,j=2,j=3,j=4,j=5,j=6,j=7,j=8,j=9,\n",
      "i=4\n",
      "j=1,j=2,j=3,j=4,j=5,j=6,j=7,j=8,j=9,\n",
      "i=5\n",
      "j=1,j=2,j=3,j=4,j=5,j=6,j=7,j=8,j=9,\n",
      "i=6\n",
      "j=1,j=2,j=3,j=4,j=5,j=6,j=7,j=8,j=9,\n",
      "i=7\n",
      "j=1,j=2,j=3,j=4,j=5,j=6,j=7,j=8,j=9,\n",
      "i=8\n",
      "j=1,j=2,j=3,j=4,j=5,j=6,j=7,j=8,j=9,\n",
      "i=9\n",
      "j=1,j=2,j=3,j=4,j=5,j=6,j=7,j=8,j=9,\n"
     ]
    }
   ],
   "source": [
    "#巢狀迴圈\n",
    "\n",
    "for i in range(1, 10):\n",
    "    print(f\"i={i}\")\n",
    "    for j in range(1,10):\n",
    "        print(f\"j={j}\",end=\",\")\n",
    "    print()"
   ]
  },
  {
   "cell_type": "code",
   "execution_count": 12,
   "metadata": {},
   "outputs": [
    {
     "name": "stdout",
     "output_type": "stream",
     "text": [
      "1*1=1 1*2=2 1*3=3 1*4=4 1*5=5 1*6=6 1*7=7 1*8=8 1*9=9 \n",
      "2*1=2 2*2=4 2*3=6 2*4=8 2*5=10 2*6=12 2*7=14 2*8=16 2*9=18 \n",
      "3*1=3 3*2=6 3*3=9 3*4=12 3*5=15 3*6=18 3*7=21 3*8=24 3*9=27 \n",
      "4*1=4 4*2=8 4*3=12 4*4=16 4*5=20 4*6=24 4*7=28 4*8=32 4*9=36 \n",
      "5*1=5 5*2=10 5*3=15 5*4=20 5*5=25 5*6=30 5*7=35 5*8=40 5*9=45 \n",
      "6*1=6 6*2=12 6*3=18 6*4=24 6*5=30 6*6=36 6*7=42 6*8=48 6*9=54 \n",
      "7*1=7 7*2=14 7*3=21 7*4=28 7*5=35 7*6=42 7*7=49 7*8=56 7*9=63 \n",
      "8*1=8 8*2=16 8*3=24 8*4=32 8*5=40 8*6=48 8*7=56 8*8=64 8*9=72 \n",
      "9*1=9 9*2=18 9*3=27 9*4=36 9*5=45 9*6=54 9*7=63 9*8=72 9*9=81 \n"
     ]
    }
   ],
   "source": [
    "#巢狀迴圈\n",
    "\n",
    "for i in range(1, 10):    \n",
    "    for j in range(1,10):\n",
    "        print(f\"{i}*{j}={i*j}\",end=\" \")\n",
    "    print()"
   ]
  },
  {
   "cell_type": "code",
   "execution_count": 15,
   "metadata": {},
   "outputs": [
    {
     "name": "stdout",
     "output_type": "stream",
     "text": [
      " 1* 1= 1  1* 2= 2  1* 3= 3  1* 4= 4  1* 5= 5  1* 6= 6  1* 7= 7  1* 8= 8  1* 9= 9 \n",
      " 2* 1= 2  2* 2= 4  2* 3= 6  2* 4= 8  2* 5=10  2* 6=12  2* 7=14  2* 8=16  2* 9=18 \n",
      " 3* 1= 3  3* 2= 6  3* 3= 9  3* 4=12  3* 5=15  3* 6=18  3* 7=21  3* 8=24  3* 9=27 \n",
      " 4* 1= 4  4* 2= 8  4* 3=12  4* 4=16  4* 5=20  4* 6=24  4* 7=28  4* 8=32  4* 9=36 \n",
      " 5* 1= 5  5* 2=10  5* 3=15  5* 4=20  5* 5=25  5* 6=30  5* 7=35  5* 8=40  5* 9=45 \n",
      " 6* 1= 6  6* 2=12  6* 3=18  6* 4=24  6* 5=30  6* 6=36  6* 7=42  6* 8=48  6* 9=54 \n",
      " 7* 1= 7  7* 2=14  7* 3=21  7* 4=28  7* 5=35  7* 6=42  7* 7=49  7* 8=56  7* 9=63 \n",
      " 8* 1= 8  8* 2=16  8* 3=24  8* 4=32  8* 5=40  8* 6=48  8* 7=56  8* 8=64  8* 9=72 \n",
      " 9* 1= 9  9* 2=18  9* 3=27  9* 4=36  9* 5=45  9* 6=54  9* 7=63  9* 8=72  9* 9=81 \n"
     ]
    }
   ],
   "source": [
    "#巢狀迴圈\n",
    "\n",
    "for i in range(1, 10):    \n",
    "    for j in range(1,10):\n",
    "        print(f\"{i:2}*{j:2}={i*j:2}\",end=\" \")\n",
    "    print()"
   ]
  },
  {
   "cell_type": "code",
   "execution_count": 16,
   "metadata": {},
   "outputs": [
    {
     "name": "stdout",
     "output_type": "stream",
     "text": [
      "1 * 1= 1 1 * 2= 2 1 * 3= 3 1 * 4= 4 1 * 5= 5 1 * 6= 6 1 * 7= 7 1 * 8= 8 1 * 9= 9 \n",
      "2 * 1= 2 2 * 2= 4 2 * 3= 6 2 * 4= 8 2 * 5=10 2 * 6=12 2 * 7=14 2 * 8=16 2 * 9=18 \n",
      "3 * 1= 3 3 * 2= 6 3 * 3= 9 3 * 4=12 3 * 5=15 3 * 6=18 3 * 7=21 3 * 8=24 3 * 9=27 \n",
      "4 * 1= 4 4 * 2= 8 4 * 3=12 4 * 4=16 4 * 5=20 4 * 6=24 4 * 7=28 4 * 8=32 4 * 9=36 \n",
      "5 * 1= 5 5 * 2=10 5 * 3=15 5 * 4=20 5 * 5=25 5 * 6=30 5 * 7=35 5 * 8=40 5 * 9=45 \n",
      "6 * 1= 6 6 * 2=12 6 * 3=18 6 * 4=24 6 * 5=30 6 * 6=36 6 * 7=42 6 * 8=48 6 * 9=54 \n",
      "7 * 1= 7 7 * 2=14 7 * 3=21 7 * 4=28 7 * 5=35 7 * 6=42 7 * 7=49 7 * 8=56 7 * 9=63 \n",
      "8 * 1= 8 8 * 2=16 8 * 3=24 8 * 4=32 8 * 5=40 8 * 6=48 8 * 7=56 8 * 8=64 8 * 9=72 \n",
      "9 * 1= 9 9 * 2=18 9 * 3=27 9 * 4=36 9 * 5=45 9 * 6=54 9 * 7=63 9 * 8=72 9 * 9=81 \n"
     ]
    }
   ],
   "source": [
    "#巢狀迴圈\n",
    "\n",
    "for i in range(1, 10):    \n",
    "    for j in range(1,10):\n",
    "        print(f\"{i:<2}*{j:2}={i*j:2}\",end=\" \")\n",
    "    print()"
   ]
  },
  {
   "cell_type": "code",
   "execution_count": 19,
   "metadata": {},
   "outputs": [
    {
     "name": "stdout",
     "output_type": "stream",
     "text": [
      "1 * 1 = 1   1 * 2 = 2   1 * 3 = 3   1 * 4 = 4   1 * 5 = 5   1 * 6 = 6   1 * 7 = 7   1 * 8 = 8   1 * 9 = 9   \n",
      "2 * 1 = 2   2 * 2 = 4   2 * 3 = 6   2 * 4 = 8   2 * 5 = 10  2 * 6 = 12  2 * 7 = 14  2 * 8 = 16  2 * 9 = 18  \n",
      "3 * 1 = 3   3 * 2 = 6   3 * 3 = 9   3 * 4 = 12  3 * 5 = 15  3 * 6 = 18  3 * 7 = 21  3 * 8 = 24  3 * 9 = 27  \n",
      "4 * 1 = 4   4 * 2 = 8   4 * 3 = 12  4 * 4 = 16  4 * 5 = 20  4 * 6 = 24  4 * 7 = 28  4 * 8 = 32  4 * 9 = 36  \n",
      "5 * 1 = 5   5 * 2 = 10  5 * 3 = 15  5 * 4 = 20  5 * 5 = 25  5 * 6 = 30  5 * 7 = 35  5 * 8 = 40  5 * 9 = 45  \n",
      "6 * 1 = 6   6 * 2 = 12  6 * 3 = 18  6 * 4 = 24  6 * 5 = 30  6 * 6 = 36  6 * 7 = 42  6 * 8 = 48  6 * 9 = 54  \n",
      "7 * 1 = 7   7 * 2 = 14  7 * 3 = 21  7 * 4 = 28  7 * 5 = 35  7 * 6 = 42  7 * 7 = 49  7 * 8 = 56  7 * 9 = 63  \n",
      "8 * 1 = 8   8 * 2 = 16  8 * 3 = 24  8 * 4 = 32  8 * 5 = 40  8 * 6 = 48  8 * 7 = 56  8 * 8 = 64  8 * 9 = 72  \n",
      "9 * 1 = 9   9 * 2 = 18  9 * 3 = 27  9 * 4 = 36  9 * 5 = 45  9 * 6 = 54  9 * 7 = 63  9 * 8 = 72  9 * 9 = 81  \n"
     ]
    }
   ],
   "source": [
    "#巢狀迴圈\n",
    "for i in range(1, 10):    \n",
    "    for j in range(1,10):\n",
    "        print(f\"{i:<2}*{j:2} = {i*j:<2}\",end=\"  \")\n",
    "    print()"
   ]
  },
  {
   "cell_type": "code",
   "execution_count": 20,
   "metadata": {},
   "outputs": [
    {
     "name": "stdout",
     "output_type": "stream",
     "text": [
      "成年\n"
     ]
    }
   ],
   "source": [
    "#單項選擇 ture的區塊\n",
    "age = 18\n",
    "if age >= 18:\n",
    "    print(\"成年\")\n",
    "else: \n",
    "    print(\"未成年\")"
   ]
  },
  {
   "cell_type": "code",
   "execution_count": 21,
   "metadata": {},
   "outputs": [
    {
     "name": "stdout",
     "output_type": "stream",
     "text": [
      "成年\n"
     ]
    }
   ],
   "source": [
    "#單項選擇 false的區塊\n",
    "age = 18\n",
    "if not (age >= 18):\n",
    "    print(\"未成年\")\n",
    "else: \n",
    "    print(\"成年\")"
   ]
  },
  {
   "cell_type": "code",
   "execution_count": 22,
   "metadata": {},
   "outputs": [
    {
     "name": "stdout",
     "output_type": "stream",
     "text": [
      "1~10:55\n"
     ]
    }
   ],
   "source": [
    "n = 1\n",
    "total = 0\n",
    "while n <= 10:\n",
    "    total += n\n",
    "    n += 1\n",
    "\n",
    "print(f\"1~10:{total}\")    "
   ]
  },
  {
   "cell_type": "code",
   "execution_count": 28,
   "metadata": {},
   "outputs": [
    {
     "name": "stdout",
     "output_type": "stream",
     "text": [
      "請輸入起始值:1\n",
      "請輸入結束值:100\n",
      "1~100:5050\n"
     ]
    }
   ],
   "source": [
    "#1~100的加總\n",
    "start = pyip.inputInt(prompt=\"請輸入起始值:\")\n",
    "print(start)\n",
    "end = pyip.inputInt(prompt=\"請輸入結束值:\")\n",
    "print(end)\n",
    "\n",
    "i = 1\n",
    "total = 0\n",
    "while i <= 100:\n",
    "    total += i\n",
    "    i += 1\n",
    "\n",
    "print (f\"1~100:{total}\")\n",
    "\n"
   ]
  },
  {
   "cell_type": "code",
   "execution_count": null,
   "metadata": {},
   "outputs": [],
   "source": [
    "'''\n",
    "#求所有因數\n",
    "num = int(input(\"請輸入整數，求所有因數:\"))\n",
    "print(num,\"的因數:\")\n",
    "\n",
    "#求公因數\n",
    "print(\"請輸入2數,求2數公因數:\")\n",
    "n = int(input('請輸入第1個數:'))\n",
    "m = int(input('請輸入第2個數:'))\n",
    "\n",
    "#2~100,每一個的質數\n",
    "end = int(input(\"請輸入end值:\"))\n",
    "print(f\"1到{end}的質數是:\")\n",
    "'''\n"
   ]
  },
  {
   "cell_type": "code",
   "execution_count": null,
   "metadata": {},
   "outputs": [],
   "source": [
    "#求所有因數\n",
    "num = int(input(\"請輸入整數，求所有因數:\"))\n",
    "print(num,\"的因數:\")\n",
    "\n",
    "for i in range (1, num+1):\n",
    "    if num % i == 0:\n",
    "        print(i)"
   ]
  },
  {
   "cell_type": "code",
   "execution_count": 2,
   "metadata": {},
   "outputs": [
    {
     "name": "stdout",
     "output_type": "stream",
     "text": [
      "請輸入2數,求2數公因數:\n",
      "2\n"
     ]
    }
   ],
   "source": [
    "#求公因數\n",
    "print(\"請輸入2數,求2數公因數:\")\n",
    "n = int(input('請輸入第1個數:'))\n",
    "m = int(input('請輸入第2個數:'))\n",
    "if n > m :\n",
    "    c = n\n",
    "else:\n",
    "    c = m\n",
    "for i in range(2, c):\n",
    "    if n % i == 0 and m % i == 0:\n",
    "        print(i)\n"
   ]
  },
  {
   "cell_type": "code",
   "execution_count": null,
   "metadata": {},
   "outputs": [],
   "source": [
    "x = int(input(\"please input a number:\"))\n",
    "y = int(input(\"please input a number:\"))\n",
    "if x > y :\n",
    "    c = x\n",
    "else:\n",
    "    c = y\n",
    "for k in range(2, c):\n",
    "    if x % k == 0 and y % k == 0:\n",
    "        print(k)"
   ]
  },
  {
   "cell_type": "code",
   "execution_count": 1,
   "metadata": {},
   "outputs": [
    {
     "name": "stdout",
     "output_type": "stream",
     "text": [
      "54 和 26 的最大公约数为 2\n"
     ]
    }
   ],
   "source": [
    "# 定义一个函数\n",
    "def hcf(x, y):\n",
    "   \"\"\"该函数返回两个数的最大公约数\"\"\"\n",
    " \n",
    "   # 获取最小值\n",
    "   if x > y:\n",
    "       smaller = y\n",
    "   else:\n",
    "       smaller = x\n",
    " \n",
    "   for i in range(1,smaller + 1):\n",
    "       if((x % i == 0) and (y % i == 0)):\n",
    "           hcf = i\n",
    " \n",
    "   return hcf\n",
    " \n",
    " \n",
    "# 用户输入两个数字\n",
    "num1 = int(input(\"输入第一个数字: \"))\n",
    "num2 = int(input(\"输入第二个数字: \"))\n",
    " \n",
    "print( num1,\"和\", num2,\"的最大公约数为\", hcf(num1, num2))"
   ]
  },
  {
   "cell_type": "code",
   "execution_count": null,
   "metadata": {},
   "outputs": [],
   "source": [
    "#2~100,每一個的質數\n",
    "end = int(input(\"請輸入end值:\"))\n",
    "print(f\"1到{end}的質數是:\")\n",
    "\n",
    "end=[];\n",
    "i=2\n",
    "for i in range(2,100):\n",
    "   j=2\n",
    "   for j in range(2,i):\n",
    "      if(i%j==0):\n",
    "         break\n",
    "   else:\n",
    "      end.append(i)\n",
    "print(end)"
   ]
  },
  {
   "cell_type": "code",
   "execution_count": 5,
   "metadata": {},
   "outputs": [
    {
     "name": "stdout",
     "output_type": "stream",
     "text": [
      "2為質數\n",
      "3為質數\n",
      "5為質數\n",
      "7為質數\n",
      "11為質數\n",
      "13為質數\n",
      "17為質數\n",
      "19為質數\n",
      "23為質數\n",
      "29為質數\n",
      "31為質數\n",
      "37為質數\n",
      "41為質數\n",
      "43為質數\n",
      "47為質數\n",
      "53為質數\n",
      "59為質數\n",
      "61為質數\n",
      "67為質數\n",
      "71為質數\n",
      "73為質數\n",
      "79為質數\n",
      "83為質數\n",
      "89為質數\n",
      "97為質數\n"
     ]
    }
   ],
   "source": [
    "for i in range(2,101):\n",
    "    count = 0\n",
    "    for n  in range(2, i):\n",
    "        if i % n == 0:\n",
    "            count += 1\n",
    "            break\n",
    "    if count == 0:\n",
    "        print(str(i) + \"為質數\")\n"
   ]
  }
 ],
 "metadata": {
  "kernelspec": {
   "display_name": "Python 3",
   "language": "python",
   "name": "python3"
  },
  "language_info": {
   "codemirror_mode": {
    "name": "ipython",
    "version": 3
   },
   "file_extension": ".py",
   "mimetype": "text/x-python",
   "name": "python",
   "nbconvert_exporter": "python",
   "pygments_lexer": "ipython3",
   "version": "3.10.8"
  },
  "orig_nbformat": 4
 },
 "nbformat": 4,
 "nbformat_minor": 2
}
