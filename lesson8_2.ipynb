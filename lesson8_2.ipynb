{
 "cells": [
  {
   "cell_type": "code",
   "execution_count": 4,
   "metadata": {},
   "outputs": [
    {
     "name": "stdout",
     "output_type": "stream",
     "text": [
      "5050\n"
     ]
    }
   ],
   "source": [
    "#1~100的加總\n",
    "s = 0\n",
    "for i in range(101):\n",
    "    s += i\n",
    "print(s)\n"
   ]
  },
  {
   "cell_type": "code",
   "execution_count": 5,
   "metadata": {},
   "outputs": [
    {
     "name": "stdout",
     "output_type": "stream",
     "text": [
      "1+100=5050\n"
     ]
    }
   ],
   "source": [
    "#1~100的加總\n",
    "\n",
    "total = 0\n",
    "for i in range(1,101):\n",
    "    total += i\n",
    "\n",
    "print (f\"1+100={total}\")"
   ]
  },
  {
   "cell_type": "code",
   "execution_count": 7,
   "metadata": {},
   "outputs": [
    {
     "name": "stdout",
     "output_type": "stream",
     "text": [
      "請輸入起始值:5\n",
      "請輸入結束值:10\n",
      "5~10=45\n"
     ]
    }
   ],
   "source": [
    "#1~100的加總\n",
    "import pyinputplus as pyip\n",
    "\n",
    "start = pyip.inputInt(prompt=\"請輸入起始值:\")\n",
    "print(start)\n",
    "end = pyip.inputInt(prompt=\"請輸入結束值:\")\n",
    "print(end)\n",
    "\n",
    "total = 0\n",
    "for i in range(start,end+1):\n",
    "    total += i\n",
    "\n",
    "print (f\"{start}~{end}={total}\")"
   ]
  },
  {
   "cell_type": "code",
   "execution_count": 10,
   "metadata": {},
   "outputs": [
    {
     "name": "stdout",
     "output_type": "stream",
     "text": [
      "1\n",
      "2\n",
      "3\n",
      "4\n",
      "5\n",
      "6\n",
      "7\n",
      "8\n",
      "9\n"
     ]
    }
   ],
   "source": [
    "for i in range(1,10):\n",
    "    print(i)"
   ]
  },
  {
   "cell_type": "code",
   "execution_count": 8,
   "metadata": {},
   "outputs": [
    {
     "name": "stdout",
     "output_type": "stream",
     "text": [
      "i=1\n",
      "j=1,j=2,j=3,j=4,j=5,j=6,j=7,j=8,j=9,\n",
      "i=2\n",
      "j=1,j=2,j=3,j=4,j=5,j=6,j=7,j=8,j=9,\n",
      "i=3\n",
      "j=1,j=2,j=3,j=4,j=5,j=6,j=7,j=8,j=9,\n",
      "i=4\n",
      "j=1,j=2,j=3,j=4,j=5,j=6,j=7,j=8,j=9,\n",
      "i=5\n",
      "j=1,j=2,j=3,j=4,j=5,j=6,j=7,j=8,j=9,\n",
      "i=6\n",
      "j=1,j=2,j=3,j=4,j=5,j=6,j=7,j=8,j=9,\n",
      "i=7\n",
      "j=1,j=2,j=3,j=4,j=5,j=6,j=7,j=8,j=9,\n",
      "i=8\n",
      "j=1,j=2,j=3,j=4,j=5,j=6,j=7,j=8,j=9,\n",
      "i=9\n",
      "j=1,j=2,j=3,j=4,j=5,j=6,j=7,j=8,j=9,\n"
     ]
    }
   ],
   "source": [
    "#巢狀迴圈\n",
    "\n",
    "for i in range(1, 10):\n",
    "    print(f\"i={i}\")\n",
    "    for j in range(1,10):\n",
    "        print(f\"j={j}\",end=\",\")\n",
    "    print()"
   ]
  },
  {
   "cell_type": "code",
   "execution_count": 12,
   "metadata": {},
   "outputs": [
    {
     "name": "stdout",
     "output_type": "stream",
     "text": [
      "1*1=1 1*2=2 1*3=3 1*4=4 1*5=5 1*6=6 1*7=7 1*8=8 1*9=9 \n",
      "2*1=2 2*2=4 2*3=6 2*4=8 2*5=10 2*6=12 2*7=14 2*8=16 2*9=18 \n",
      "3*1=3 3*2=6 3*3=9 3*4=12 3*5=15 3*6=18 3*7=21 3*8=24 3*9=27 \n",
      "4*1=4 4*2=8 4*3=12 4*4=16 4*5=20 4*6=24 4*7=28 4*8=32 4*9=36 \n",
      "5*1=5 5*2=10 5*3=15 5*4=20 5*5=25 5*6=30 5*7=35 5*8=40 5*9=45 \n",
      "6*1=6 6*2=12 6*3=18 6*4=24 6*5=30 6*6=36 6*7=42 6*8=48 6*9=54 \n",
      "7*1=7 7*2=14 7*3=21 7*4=28 7*5=35 7*6=42 7*7=49 7*8=56 7*9=63 \n",
      "8*1=8 8*2=16 8*3=24 8*4=32 8*5=40 8*6=48 8*7=56 8*8=64 8*9=72 \n",
      "9*1=9 9*2=18 9*3=27 9*4=36 9*5=45 9*6=54 9*7=63 9*8=72 9*9=81 \n"
     ]
    }
   ],
   "source": [
    "#巢狀迴圈\n",
    "\n",
    "for i in range(1, 10):    \n",
    "    for j in range(1,10):\n",
    "        print(f\"{i}*{j}={i*j}\",end=\" \")\n",
    "    print()"
   ]
  },
  {
   "cell_type": "code",
   "execution_count": 15,
   "metadata": {},
   "outputs": [
    {
     "name": "stdout",
     "output_type": "stream",
     "text": [
      " 1* 1= 1  1* 2= 2  1* 3= 3  1* 4= 4  1* 5= 5  1* 6= 6  1* 7= 7  1* 8= 8  1* 9= 9 \n",
      " 2* 1= 2  2* 2= 4  2* 3= 6  2* 4= 8  2* 5=10  2* 6=12  2* 7=14  2* 8=16  2* 9=18 \n",
      " 3* 1= 3  3* 2= 6  3* 3= 9  3* 4=12  3* 5=15  3* 6=18  3* 7=21  3* 8=24  3* 9=27 \n",
      " 4* 1= 4  4* 2= 8  4* 3=12  4* 4=16  4* 5=20  4* 6=24  4* 7=28  4* 8=32  4* 9=36 \n",
      " 5* 1= 5  5* 2=10  5* 3=15  5* 4=20  5* 5=25  5* 6=30  5* 7=35  5* 8=40  5* 9=45 \n",
      " 6* 1= 6  6* 2=12  6* 3=18  6* 4=24  6* 5=30  6* 6=36  6* 7=42  6* 8=48  6* 9=54 \n",
      " 7* 1= 7  7* 2=14  7* 3=21  7* 4=28  7* 5=35  7* 6=42  7* 7=49  7* 8=56  7* 9=63 \n",
      " 8* 1= 8  8* 2=16  8* 3=24  8* 4=32  8* 5=40  8* 6=48  8* 7=56  8* 8=64  8* 9=72 \n",
      " 9* 1= 9  9* 2=18  9* 3=27  9* 4=36  9* 5=45  9* 6=54  9* 7=63  9* 8=72  9* 9=81 \n"
     ]
    }
   ],
   "source": [
    "#巢狀迴圈\n",
    "\n",
    "for i in range(1, 10):    \n",
    "    for j in range(1,10):\n",
    "        print(f\"{i:2}*{j:2}={i*j:2}\",end=\" \")\n",
    "    print()"
   ]
  },
  {
   "cell_type": "code",
   "execution_count": 16,
   "metadata": {},
   "outputs": [
    {
     "name": "stdout",
     "output_type": "stream",
     "text": [
      "1 * 1= 1 1 * 2= 2 1 * 3= 3 1 * 4= 4 1 * 5= 5 1 * 6= 6 1 * 7= 7 1 * 8= 8 1 * 9= 9 \n",
      "2 * 1= 2 2 * 2= 4 2 * 3= 6 2 * 4= 8 2 * 5=10 2 * 6=12 2 * 7=14 2 * 8=16 2 * 9=18 \n",
      "3 * 1= 3 3 * 2= 6 3 * 3= 9 3 * 4=12 3 * 5=15 3 * 6=18 3 * 7=21 3 * 8=24 3 * 9=27 \n",
      "4 * 1= 4 4 * 2= 8 4 * 3=12 4 * 4=16 4 * 5=20 4 * 6=24 4 * 7=28 4 * 8=32 4 * 9=36 \n",
      "5 * 1= 5 5 * 2=10 5 * 3=15 5 * 4=20 5 * 5=25 5 * 6=30 5 * 7=35 5 * 8=40 5 * 9=45 \n",
      "6 * 1= 6 6 * 2=12 6 * 3=18 6 * 4=24 6 * 5=30 6 * 6=36 6 * 7=42 6 * 8=48 6 * 9=54 \n",
      "7 * 1= 7 7 * 2=14 7 * 3=21 7 * 4=28 7 * 5=35 7 * 6=42 7 * 7=49 7 * 8=56 7 * 9=63 \n",
      "8 * 1= 8 8 * 2=16 8 * 3=24 8 * 4=32 8 * 5=40 8 * 6=48 8 * 7=56 8 * 8=64 8 * 9=72 \n",
      "9 * 1= 9 9 * 2=18 9 * 3=27 9 * 4=36 9 * 5=45 9 * 6=54 9 * 7=63 9 * 8=72 9 * 9=81 \n"
     ]
    }
   ],
   "source": [
    "#巢狀迴圈\n",
    "\n",
    "for i in range(1, 10):    \n",
    "    for j in range(1,10):\n",
    "        print(f\"{i:<2}*{j:2}={i*j:2}\",end=\" \")\n",
    "    print()"
   ]
  },
  {
   "cell_type": "code",
   "execution_count": 19,
   "metadata": {},
   "outputs": [
    {
     "name": "stdout",
     "output_type": "stream",
     "text": [
      "1 * 1 = 1   1 * 2 = 2   1 * 3 = 3   1 * 4 = 4   1 * 5 = 5   1 * 6 = 6   1 * 7 = 7   1 * 8 = 8   1 * 9 = 9   \n",
      "2 * 1 = 2   2 * 2 = 4   2 * 3 = 6   2 * 4 = 8   2 * 5 = 10  2 * 6 = 12  2 * 7 = 14  2 * 8 = 16  2 * 9 = 18  \n",
      "3 * 1 = 3   3 * 2 = 6   3 * 3 = 9   3 * 4 = 12  3 * 5 = 15  3 * 6 = 18  3 * 7 = 21  3 * 8 = 24  3 * 9 = 27  \n",
      "4 * 1 = 4   4 * 2 = 8   4 * 3 = 12  4 * 4 = 16  4 * 5 = 20  4 * 6 = 24  4 * 7 = 28  4 * 8 = 32  4 * 9 = 36  \n",
      "5 * 1 = 5   5 * 2 = 10  5 * 3 = 15  5 * 4 = 20  5 * 5 = 25  5 * 6 = 30  5 * 7 = 35  5 * 8 = 40  5 * 9 = 45  \n",
      "6 * 1 = 6   6 * 2 = 12  6 * 3 = 18  6 * 4 = 24  6 * 5 = 30  6 * 6 = 36  6 * 7 = 42  6 * 8 = 48  6 * 9 = 54  \n",
      "7 * 1 = 7   7 * 2 = 14  7 * 3 = 21  7 * 4 = 28  7 * 5 = 35  7 * 6 = 42  7 * 7 = 49  7 * 8 = 56  7 * 9 = 63  \n",
      "8 * 1 = 8   8 * 2 = 16  8 * 3 = 24  8 * 4 = 32  8 * 5 = 40  8 * 6 = 48  8 * 7 = 56  8 * 8 = 64  8 * 9 = 72  \n",
      "9 * 1 = 9   9 * 2 = 18  9 * 3 = 27  9 * 4 = 36  9 * 5 = 45  9 * 6 = 54  9 * 7 = 63  9 * 8 = 72  9 * 9 = 81  \n"
     ]
    }
   ],
   "source": [
    "#巢狀迴圈\n",
    "for i in range(1, 10):    \n",
    "    for j in range(1,10):\n",
    "        print(f\"{i:<2}*{j:2} = {i*j:<2}\",end=\"  \")\n",
    "    print()"
   ]
  },
  {
   "cell_type": "code",
   "execution_count": 20,
   "metadata": {},
   "outputs": [
    {
     "name": "stdout",
     "output_type": "stream",
     "text": [
      "成年\n"
     ]
    }
   ],
   "source": [
    "#單項選擇 ture的區塊\n",
    "age = 18\n",
    "if age >= 18:\n",
    "    print(\"成年\")\n",
    "else: \n",
    "    print(\"未成年\")"
   ]
  },
  {
   "cell_type": "code",
   "execution_count": 21,
   "metadata": {},
   "outputs": [
    {
     "name": "stdout",
     "output_type": "stream",
     "text": [
      "成年\n"
     ]
    }
   ],
   "source": [
    "#單項選擇 false的區塊\n",
    "age = 18\n",
    "if not (age >= 18):\n",
    "    print(\"未成年\")\n",
    "else: \n",
    "    print(\"成年\")"
   ]
  },
  {
   "cell_type": "code",
   "execution_count": 22,
   "metadata": {},
   "outputs": [
    {
     "name": "stdout",
     "output_type": "stream",
     "text": [
      "1~10:55\n"
     ]
    }
   ],
   "source": [
    "n = 1\n",
    "total = 0\n",
    "while n <= 10:\n",
    "    total += n\n",
    "    n += 1\n",
    "\n",
    "print(f\"1~10:{total}\")    "
   ]
  },
  {
   "cell_type": "code",
   "execution_count": 28,
   "metadata": {},
   "outputs": [
    {
     "name": "stdout",
     "output_type": "stream",
     "text": [
      "請輸入起始值:1\n",
      "請輸入結束值:100\n",
      "1~100:5050\n"
     ]
    }
   ],
   "source": [
    "#1~100的加總\n",
    "start = pyip.inputInt(prompt=\"請輸入起始值:\")\n",
    "print(start)\n",
    "end = pyip.inputInt(prompt=\"請輸入結束值:\")\n",
    "print(end)\n",
    "\n",
    "i = 1\n",
    "total = 0\n",
    "while i <= 100:\n",
    "    total += i\n",
    "    i += 1\n",
    "\n",
    "print (f\"1~100:{total}\")\n",
    "\n"
   ]
  },
  {
   "cell_type": "code",
   "execution_count": null,
   "metadata": {},
   "outputs": [],
   "source": [
    "'''\n",
    "#求所有因數\n",
    "num = int(input(\"請輸入整數，求所有因數:\"))\n",
    "print(num,\"的因數:\")\n",
    "\n",
    "#求公因數\n",
    "print(\"請輸入2數,求2數公因數:\")\n",
    "n = int(input('請輸入第1個數:'))\n",
    "m = int(input('請輸入第2個數:'))\n",
    "\n",
    "#2~100,每一個的質數\n",
    "end = int(input(\"請輸入end值:\"))\n",
    "print(f\"1到{end}的質數是:\")\n",
    "'''\n"
   ]
  },
  {
   "cell_type": "code",
   "execution_count": 1,
   "metadata": {},
   "outputs": [
    {
     "name": "stdout",
     "output_type": "stream",
     "text": [
      "55的因數: 1\n",
      "5\n",
      "11\n",
      "55\n"
     ]
    }
   ],
   "source": [
    "#求所有因數\n",
    "num = eval(input(\"請輸入整數，求所有因數:\"))\n",
    "print(f\"{num}的因數:\", end=\" \")\n",
    "for i in range (1, num+1):\n",
    "    if num % i == 0:\n",
    "        print(i)"
   ]
  },
  {
   "cell_type": "code",
   "execution_count": 9,
   "metadata": {},
   "outputs": [
    {
     "name": "stdout",
     "output_type": "stream",
     "text": [
      "66的因數: 2"
     ]
    }
   ],
   "source": [
    "num = eval(input(\"請輸入整數，求所有因數:\"))\n",
    "print(f\"{num}的因數:\", end=\" \")\n",
    "n2 = 2\n",
    "while n2 <= num :\n",
    "    if num %n2 == 0:\n",
    "       print(n2, end = \"\")\n",
    "       num //= n2\n",
    "    else:\n",
    "        if n2 == 2:\n",
    "           n2 += 3\n",
    "        else:\n",
    "            n2 += 5\n",
    "\n",
    "    "
   ]
  },
  {
   "cell_type": "code",
   "execution_count": 2,
   "metadata": {},
   "outputs": [
    {
     "name": "stdout",
     "output_type": "stream",
     "text": [
      "請輸入2數,求2數公因數:\n",
      "2\n"
     ]
    }
   ],
   "source": [
    "#求公因數\n",
    "print(\"請輸入2數,求2數公因數:\")\n",
    "n = int(input('請輸入第1個數:'))\n",
    "m = int(input('請輸入第2個數:'))\n",
    "if n > m :\n",
    "    c = n\n",
    "else:\n",
    "    c = m\n",
    "for i in range(2, c):\n",
    "    if n % i == 0 and m % i == 0:\n",
    "        print(i)\n"
   ]
  },
  {
   "cell_type": "code",
   "execution_count": null,
   "metadata": {},
   "outputs": [],
   "source": [
    "x = int(input(\"please input a number:\"))\n",
    "y = int(input(\"please input a number:\"))\n",
    "if x > y :\n",
    "    c = x\n",
    "else:\n",
    "    c = y\n",
    "for k in range(2, c):\n",
    "    if x % k == 0 and y % k == 0:\n",
    "        print(k)"
   ]
  },
  {
   "cell_type": "code",
   "execution_count": 1,
   "metadata": {},
   "outputs": [
    {
     "name": "stdout",
     "output_type": "stream",
     "text": [
      "54 和 26 的最大公约数为 2\n"
     ]
    }
   ],
   "source": [
    "# 定义一个函数\n",
    "def hcf(x, y):\n",
    "   \"\"\"该函数返回两个数的最大公约数\"\"\"\n",
    " \n",
    "   # 获取最小值\n",
    "   if x > y:\n",
    "       smaller = y\n",
    "   else:\n",
    "       smaller = x\n",
    " \n",
    "   for i in range(1,smaller + 1):\n",
    "       if((x % i == 0) and (y % i == 0)):\n",
    "           hcf = i\n",
    " \n",
    "   return hcf\n",
    " \n",
    " \n",
    "# 用户输入两个数字\n",
    "num1 = int(input(\"输入第一个数字: \"))\n",
    "num2 = int(input(\"输入第二个数字: \"))\n",
    " \n",
    "print( num1,\"和\", num2,\"的最大公约数为\", hcf(num1, num2))"
   ]
  },
  {
   "cell_type": "code",
   "execution_count": null,
   "metadata": {},
   "outputs": [],
   "source": [
    "#2~100,每一個的質數\n",
    "end = int(input(\"請輸入end值:\"))\n",
    "print(f\"1到{end}的質數是:\")\n",
    "\n",
    "end=[];\n",
    "i=2\n",
    "for i in range(2,100):\n",
    "   j=2\n",
    "   for j in range(2,i):\n",
    "      if(i%j==0):\n",
    "         break\n",
    "   else:\n",
    "      end.append(i)\n",
    "print(end)"
   ]
  },
  {
   "cell_type": "code",
   "execution_count": 5,
   "metadata": {},
   "outputs": [
    {
     "name": "stdout",
     "output_type": "stream",
     "text": [
      "2為質數\n",
      "3為質數\n",
      "5為質數\n",
      "7為質數\n",
      "11為質數\n",
      "13為質數\n",
      "17為質數\n",
      "19為質數\n",
      "23為質數\n",
      "29為質數\n",
      "31為質數\n",
      "37為質數\n",
      "41為質數\n",
      "43為質數\n",
      "47為質數\n",
      "53為質數\n",
      "59為質數\n",
      "61為質數\n",
      "67為質數\n",
      "71為質數\n",
      "73為質數\n",
      "79為質數\n",
      "83為質數\n",
      "89為質數\n",
      "97為質數\n"
     ]
    }
   ],
   "source": [
    "for i in range(2,101):\n",
    "    count = 0\n",
    "    for n  in range(2, i):\n",
    "        if i % n == 0:\n",
    "            count += 1\n",
    "            break\n",
    "    if count == 0:\n",
    "        print(str(i) + \"為質數\")\n"
   ]
  },
  {
   "cell_type": "code",
   "execution_count": null,
   "metadata": {},
   "outputs": [],
   "source": [
    "num = int(input(\"請輸入整數，求所有因數:\"))\n",
    "print(f'{num}的因數:', end=' ')         #顯示提示文字，並將print()的換行功能改為空格\n",
    "\n",
    "for x in range(1,num+1):                #建立x的值為1~num的迴圈\n",
    "    if num % x == 0:                    #若num除x的餘數為0(num可以被x整除)，則x為num的因數\n",
    "        print(x, end=', ')              #顯示x"
   ]
  },
  {
   "cell_type": "code",
   "execution_count": null,
   "metadata": {},
   "outputs": [],
   "source": [
    "n = int(input('請輸入第1個數:'))            #設立變數n\n",
    "m = int(input('請輸入第2個數:'))            #設立變數m\n",
    "print(\"請輸入2數,求2數公因數:\")             #顯示提示\n",
    "print(f'第一個數為{n}')                     #顯示變數n\n",
    "print(f'第二個數為{m}')                     #顯示變數m\n",
    "print('兩數的公因數為:', end=' ')           #顯示提示\n",
    "\n",
    "for x in range(1, n+1):\n",
    "    if n % x == 0:                          #尋找n的因數\n",
    "        for y in range(1, m+1):             #若x為n的因數，則尋找m的因數\n",
    "            if m % y == 0 and x == y:       #若y為m的因數，且x、y的值相同，則y為n、m的公因數\n",
    "                print(y, end=', ')          #顯示y"
   ]
  },
  {
   "cell_type": "code",
   "execution_count": null,
   "metadata": {},
   "outputs": [],
   "source": [
    "end = int(input(\"請輸入end值:\"))    \n",
    "\n",
    "if end < 2:                            #質數必須為大於一的正整數，若為1或負數，必不為質數。\n",
    "    print('質數必須為大於一的正整數')    #質數的因數只有1和自己，故質數的因數相加等於(1+質數)，若某數的\n",
    "else:                                  #因數相加等於(1+某數)，則某數為質數，反之，不是質數。\n",
    "    total = 0                          #將因數之和歸零\n",
    "    for i in range(1,end+1):           \n",
    "        if end % i == 0:               #尋找因數，若為True，則i為因數\n",
    "            total += i                 #計算因數相加\n",
    "    if total == 1 + end:               #判斷是否為質數，若因數之和相等於(1+end)則為質數，反之則否。\n",
    "        print(f'{end}是一個質數')\n",
    "    else:\n",
    "        print(f'{end}不是一個質數')"
   ]
  },
  {
   "cell_type": "code",
   "execution_count": 5,
   "metadata": {},
   "outputs": [
    {
     "name": "stdout",
     "output_type": "stream",
     "text": [
      "===============猜數字遊戲=================:\n",
      "\n",
      "猜數字範圍1~100:98\n",
      "提示:再小一點\n",
      "您已經猜了1次\n",
      "比98小\n",
      "\n",
      "猜數字範圍1~98:54\n",
      "提示:再小一點\n",
      "您已經猜了2次\n",
      "比54小\n",
      "\n",
      "猜數字範圍1~54:45\n",
      "提示:再大一點\n",
      "您已經猜了3次\n",
      "\n",
      "猜數字範圍45~54:48\n",
      "您猜中了,答案是48\n",
      "您總共猜了4次\n"
     ]
    }
   ],
   "source": [
    "# 猜數字遊戲 99 48\n",
    "import random\n",
    "min = 1\n",
    "max = 100\n",
    "count = 0\n",
    "target = random.randint(min, max)\n",
    "print(\"===============猜數字遊戲=================:\")\n",
    "while(True):\n",
    "   try:\n",
    "      keyin = input(f\"猜數字範圍{min}~{max}[按q終止遊戲]\")\n",
    "      if keyin == 'q':                          #方便中途停止遊戲\n",
    "         print('遊戲中止')     \n",
    "         break                \n",
    "      keyinInt = int(keyin)\n",
    "      if keyinInt >= max:                       #避免最大值變大     \n",
    "         print(f'比{max}小')\n",
    "         continue             \n",
    "      if keyinInt <= min:                       #避免最小值變小              \n",
    "         print(f'比{min}大')\n",
    "         continue\n",
    "   except:\n",
    "      print('格式錯誤，請輸入整數')               #顯示輸入字串時的提示文字\n",
    "      continue               \n",
    "   else:\n",
    "      count += 1                                #計算猜的次數\n",
    "      print()                                   #空一行排版\n",
    "      print(f'猜數字範圍{min}~{max}:',end='')    #猜數字範圍1~100:\n",
    "      print(keyinInt)                           #輸入值\n",
    "      if keyinInt == target:                    #猜中的情況\n",
    "         print(f'您猜中了,答案是{keyinInt}')     #顯示正確數字\n",
    "         print(f'您總共猜了{count}次')           #帶入猜的次數\n",
    "         break                                  #離開迴圈\n",
    "      elif keyinInt < target:                               #輸入值較小的情況\n",
    "         min = keyinInt                                     #改變最小值為輸入值\n",
    "         print('提示:再大一點')                              #提示\n",
    "         print(f'您已經猜了{count}次')                       #帶入猜的次數\n",
    "         continue                                           #從頭來過\n",
    "      else:                                                                   #輸入值較大的情況\n",
    "         max = keyinInt                                                       #改變最大值為輸入值\n",
    "         print('提示:再小一點')                                                #提示\n",
    "         print(f'您已經猜了{count}次')                                         #帶入猜的次數"
   ]
  },
  {
   "cell_type": "code",
   "execution_count": null,
   "metadata": {},
   "outputs": [],
   "source": [
    "#猜數字 56\n",
    "import random\n",
    "ans = random.randint(1,100)\n",
    "guess = 0\n",
    "while guess != ans:\n",
    "    guess = int(input(\"請猜測一個1-100間的數字 : \"))\n",
    "    if guess > ans:\n",
    "        print(\"要再小一點\")\n",
    "    elif guess < ans:\n",
    "        print(\"要再大一點\")\n",
    "    else:\n",
    "        print(\"恭喜答對\")"
   ]
  },
  {
   "cell_type": "code",
   "execution_count": 3,
   "metadata": {},
   "outputs": [
    {
     "name": "stdout",
     "output_type": "stream",
     "text": [
      "答對了！\n"
     ]
    }
   ],
   "source": [
    "from random import randint\n",
    "\n",
    "#規定範圍並產生密碼83\n",
    "lowest = 1\n",
    "highest = 100\n",
    "answer = randint(lowest, highest)\n",
    "\n",
    "#重複猜數字，直到猜對為止\n",
    "while True:\n",
    "    guess = input('密碼介於 ' + str(lowest) + '-' + str(highest) + ':\\n>>')\n",
    "    \n",
    "    #檢查輸入的內容是否為數字\n",
    "    try:\n",
    "        guess = int(guess)  #把字串轉換成整數\n",
    "    except ValueError:  #轉換失敗便要求重新輸入數字\n",
    "        print('格式錯誤，請輸入數字\\n')\n",
    "        continue\n",
    "    \n",
    "    #檢查輸入的數字是否介於規定範圍內\n",
    "    if guess <= lowest or guess >= highest:\n",
    "        print('請輸入 ' + str(lowest) + '-' + str(highest) + ' 之間的整數\\n')\n",
    "        continue\n",
    "    \n",
    "    #判斷有沒有猜中密碼\n",
    "    if guess == answer:\n",
    "        print('答對了！')\n",
    "        break   #猜對才跳脫迴圈\n",
    "    elif guess < answer:\n",
    "        lowest = guess\n",
    "    else:\n",
    "        highest = guess"
   ]
  },
  {
   "cell_type": "code",
   "execution_count": null,
   "metadata": {},
   "outputs": [],
   "source": [
    "from random import randint\n",
    "\n",
    "#規定範圍並產生密碼\n",
    "lowest = 1\n",
    "highest = 100\n",
    "answer = randint(lowest, highest)\n",
    "\n",
    "#重複猜數字，直到猜對為止\n",
    "while True:\n",
    "    guess = input('密碼介於 ' + str(lowest) + '-' + str(highest) + ':\\n>>')\n",
    "    \n",
    "    #檢查輸入的內容是否為數字\n",
    "    try:\n",
    "        guess = int(guess)  #把字串轉換成整數\n",
    "    except ValueError:  #轉換失敗便要求重新輸入數字\n",
    "        print('格式錯誤，請輸入數字\\n')\n",
    "        continue\n",
    "    \n",
    "    #檢查輸入的數字是否介於規定範圍內\n",
    "    if guess <= lowest or guess >= highest:\n",
    "        print('請輸入 ' + str(lowest) + '-' + str(highest) + ' 之間的整數\\n')\n",
    "        continue\n",
    "    \n",
    "    #判斷有沒有猜中密碼\n",
    "    if guess == answer:\n",
    "        print('答對了！')\n",
    "        break   #猜對才跳脫迴圈\n",
    "    elif guess < answer:\n",
    "        lowest = guess\n",
    "    else:\n",
    "        highest = guess\n",
    "#因為輸入負數或浮點數會出錯，再改良一下"
   ]
  },
  {
   "cell_type": "code",
   "execution_count": 2,
   "metadata": {},
   "outputs": [
    {
     "name": "stdout",
     "output_type": "stream",
     "text": [
      "再低一點~\n",
      "再高一點~\n",
      "答對啦~答案為: 54\n"
     ]
    }
   ],
   "source": [
    "import random     #54\n",
    "try:\n",
    "    b = int(input(\"猜數字遊戲，1~100，請輸入你的數字:\"))\n",
    "except:\n",
    "    print(\"請輸入正確的資料!!\")\n",
    "    exit()\n",
    "\n",
    "\n",
    "\n",
    "a = random.randint(1, 100)\n",
    "\n",
    "c = 1   #最小值\n",
    "d = 100 #最大值\n",
    "if b >= 1 and b <= 100 :\n",
    "    while not a == b :\n",
    "\n",
    "        if a > b:\n",
    "            print(\"再高一點~\")\n",
    "            c = b\n",
    "            b = int(input(\"數字介於{:d}到{:d}之間，再次輸入數字:\".format(c, d)))\n",
    "            \n",
    "        elif a < b:\n",
    "            print(\"再低一點~\")\n",
    "            d = b\n",
    "            b = int(input(\"數字介於{:d}到{:d}之間，再次輸入數字:\".format(c, d)))\n",
    "    print(\"答對啦~答案為:\", a)\n",
    "else:\n",
    "    print(\"數字需介於1~100之間!!\")"
   ]
  },
  {
   "cell_type": "code",
   "execution_count": 1,
   "metadata": {},
   "outputs": [
    {
     "name": "stdout",
     "output_type": "stream",
     "text": [
      "答案為:42\n",
      "數字過大，請猜小一點\n",
      "猜對了，遊戲結束。\n"
     ]
    }
   ],
   "source": [
    "#由電腦做莊，從1~100之間隨機產生一個數字，次數字即為「密碼」，參加遊戲的多個玩家輪流猜這個密碼。\n",
    "#每猜一個數，電腦會告知遊戲者該數字是大於或小於密碼，並更新最新的範圍，直至到密碼被猜中。例如：終極密碼為42\n",
    "\n",
    "import random\n",
    "\n",
    "# 產生密碼（範圍1~100之間的自然數）\n",
    "passcode = random.randint(1, 100)\n",
    "print(f'答案為:{passcode}')\n",
    "\n",
    "# 建立存放範圍最新範圍的變數\n",
    "min = 1     # 存放比答案小的範圍\n",
    "max = 100   # 存放比答案大的範圍\n",
    "\n",
    "# 玩家開始猜\n",
    "while True:\n",
    "    guess = int(input(f'請猜密碼, 範圍為{min}~{max}之間的數字:'))\n",
    "\n",
    "    # 判斷猜測的數字有沒有在範圍內\n",
    "    if guess > max or guess < min:\n",
    "        print('Ooops, 這數字有問題，請重新輸入。')\n",
    "\n",
    "    # 猜對離開遊戲\n",
    "    elif guess == passcode:\n",
    "        print('猜對了，遊戲結束。')\n",
    "        \n",
    "        # 跳離迴圈\n",
    "        break\n",
    "\n",
    "    # 數字比答案大，則更新max變數\n",
    "    elif guess > passcode:\n",
    "        print('數字過大，請猜小一點')\n",
    "        max = guess\n",
    "\n",
    "    # 數字比答案小，則更新min變數\n",
    "    else:\n",
    "        print('數字過小，請猜大一點')\n",
    "        min = guess"
   ]
  },
  {
   "cell_type": "code",
   "execution_count": null,
   "metadata": {},
   "outputs": [],
   "source": [
    "import random\n",
    "\n",
    "target = random.randint(1, 100)\n",
    "print(f'答案為:{target}')\n",
    "\n",
    "min = 1     \n",
    "max = 100   \n",
    "count = 0\n",
    "target = random.randint(min, max)\n",
    "print(\"===============猜數字遊戲=================:\\n\")\n",
    "while True:\n",
    "    count = int(input(f'請猜密碼, 範圍為{min}~{max}之間的數字:'))\n",
    "\n",
    "    if count > max or count < min:\n",
    "        print('這數字有問題，請重新輸入。')\n",
    "\n",
    "    elif count == target:\n",
    "        print('猜對了，遊戲結束。')\n",
    "               \n",
    "        break\n",
    "\n",
    "    elif count > target:\n",
    "        print('數字過大，請猜小一點')\n",
    "        max = count\n",
    "\n",
    "    else:\n",
    "        print('數字過小，請猜大一點')\n",
    "        min = count"
   ]
  }
 ],
 "metadata": {
  "kernelspec": {
   "display_name": "Python 3",
   "language": "python",
   "name": "python3"
  },
  "language_info": {
   "codemirror_mode": {
    "name": "ipython",
    "version": 3
   },
   "file_extension": ".py",
   "mimetype": "text/x-python",
   "name": "python",
   "nbconvert_exporter": "python",
   "pygments_lexer": "ipython3",
   "version": "3.10.8"
  },
  "orig_nbformat": 4
 },
 "nbformat": 4,
 "nbformat_minor": 2
}
