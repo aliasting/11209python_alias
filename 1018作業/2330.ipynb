{
 "cells": [
  {
   "cell_type": "code",
   "execution_count": 6,
   "metadata": {},
   "outputs": [],
   "source": [
    "import sqlite3\n",
    "import csv\n",
    "import requests\n",
    "\n",
    "def create_table(conn):    \n",
    "    cursor = conn.cursor()\n",
    "    cursor.execute(\n",
    "        '''\n",
    "        CREATE TABLE  IF NOT EXISTS 台積電(\n",
    "            \"ID\"    INTEGER NOT NULL,\n",
    "            \"日期\"\tINTEGER NOT NULL,\n",
    "            \"開盤價\"\tINTEGER NOT NULL,\n",
    "            \"盤中最高價\"\tINTEGER NOT NULL,\n",
    "            \"盤中最低價\"\tINTEGER NOT NULL,\n",
    "            \"收盤價\"\tINTEGER NOT NULL,\n",
    "            \"調整後收盤價\"\tINTEGER NOT NULL,\n",
    "            \"成交量\"\tINTEGER NOT NULL,\n",
    "            PRIMARY KEY(\"ID\" AUTOINCREMENT)\n",
    "        );\n",
    "        '''\n",
    "    )\n",
    "    conn.commit()\n",
    "\n",
    "def insert_data(conn,values):\n",
    "    cursor = conn.cursor()\n",
    "    sql = '''\n",
    "    INSERT INTO 台積電(日期,開盤價,盤中最高價,盤中最低價,收盤價,調整後收盤價,成交量)\n",
    "        VALUES(?,?,?,?,?,?,?)\n",
    "    '''\n",
    "    cursor.execute(sql,values)\n",
    "    conn.commit()\n",
    "\n",
    "conn = sqlite3.connect(\"台積電.db\")\n",
    "create_table(conn)\n",
    "\n",
    "with open('台積電.csv') as file:\n",
    "    read = csv.DictReader(file)\n",
    "    for item in read:\n",
    "        insert_data(conn,[item['Date'],item['Open'],item['High'],item['Low'],item['Close'],item['Adj Close'],item['Volume']])"
   ]
  }
 ],
 "metadata": {
  "kernelspec": {
   "display_name": ".venv",
   "language": "python",
   "name": "python3"
  },
  "language_info": {
   "codemirror_mode": {
    "name": "ipython",
    "version": 3
   },
   "file_extension": ".py",
   "mimetype": "text/x-python",
   "name": "python",
   "nbconvert_exporter": "python",
   "pygments_lexer": "ipython3",
   "version": "3.10.8"
  }
 },
 "nbformat": 4,
 "nbformat_minor": 2
}
