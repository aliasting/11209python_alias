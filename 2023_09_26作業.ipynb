{
 "cells": [
  {
   "cell_type": "code",
   "execution_count": null,
   "metadata": {},
   "outputs": [],
   "source": [
    "#打香腸規則：\n",
    "'''\n",
    "一次骰4個骰子\n",
    "如果有2個相同的數字，則另外2數加總。 e.g.1123=5\n",
    "如果有2對2個相同的數字，則較大對數加總。 e.g.1166=12\n",
    "如果有3個相同的數字 && 4個數都不同，就「作廢」。 e.g.1234、3331=作廢\n",
    "如果4個數皆相同，就「豹子」，比3.4.大。 e.g.3333 '''\n"
   ]
  }
 ],
 "metadata": {
  "kernelspec": {
   "display_name": "Python 3",
   "language": "python",
   "name": "python3"
  },
  "language_info": {
   "name": "python",
   "version": "3.10.8"
  },
  "orig_nbformat": 4
 },
 "nbformat": 4,
 "nbformat_minor": 2
}
