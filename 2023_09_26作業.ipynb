{
 "cells": [
  {
   "cell_type": "code",
   "execution_count": 4,
   "metadata": {},
   "outputs": [
    {
     "name": "stdout",
     "output_type": "stream",
     "text": [
      "k\n",
      "===============猜骰子遊戲=================:\n",
      "\n"
     ]
    },
    {
     "ename": "KeyboardInterrupt",
     "evalue": "",
     "output_type": "error",
     "traceback": [
      "\u001b[1;31m---------------------------------------------------------------------------\u001b[0m",
      "\u001b[1;31mKeyboardInterrupt\u001b[0m                         Traceback (most recent call last)",
      "\u001b[1;32mc:\\Users\\PowerUser\\Documents\\GitHub\\11209python_alias\\11209python_alias\\2023_09_26作業.ipynb 儲存格 1\u001b[0m line \u001b[0;36m3\n\u001b[0;32m     <a href='vscode-notebook-cell:/c%3A/Users/PowerUser/Documents/GitHub/11209python_alias/11209python_alias/2023_09_26%E4%BD%9C%E6%A5%AD.ipynb#W0sZmlsZQ%3D%3D?line=28'>29</a>\u001b[0m \u001b[39melif\u001b[39;00m a1 \u001b[39m==\u001b[39m a2 \u001b[39m|\u001b[39m a3 \u001b[39m==\u001b[39m a4:\n\u001b[0;32m     <a href='vscode-notebook-cell:/c%3A/Users/PowerUser/Documents/GitHub/11209python_alias/11209python_alias/2023_09_26%E4%BD%9C%E6%A5%AD.ipynb#W0sZmlsZQ%3D%3D?line=29'>30</a>\u001b[0m     k \u001b[39m=\u001b[39m (\u001b[39mf\u001b[39m\u001b[39m\"\u001b[39m\u001b[39ma1 + a2 or a3 + a4\u001b[39m\u001b[39m\"\u001b[39m)\n\u001b[1;32m---> <a href='vscode-notebook-cell:/c%3A/Users/PowerUser/Documents/GitHub/11209python_alias/11209python_alias/2023_09_26%E4%BD%9C%E6%A5%AD.ipynb#W0sZmlsZQ%3D%3D?line=30'>31</a>\u001b[0m \u001b[39melif\u001b[39;00m (a1 \u001b[39m==\u001b[39m a2 \u001b[39m==\u001b[39m a3 \u001b[39mand\u001b[39;00m a1 \u001b[39m!=\u001b[39m a2 \u001b[39m!=\u001b[39m a3 \u001b[39m!=\u001b[39ma4): \n\u001b[0;32m     <a href='vscode-notebook-cell:/c%3A/Users/PowerUser/Documents/GitHub/11209python_alias/11209python_alias/2023_09_26%E4%BD%9C%E6%A5%AD.ipynb#W0sZmlsZQ%3D%3D?line=31'>32</a>\u001b[0m     k \u001b[39m=\u001b[39m (\u001b[39mf\u001b[39m\u001b[39m\"\u001b[39m\u001b[39m此局作廢!\u001b[39m\u001b[39m\"\u001b[39m)\n\u001b[0;32m     <a href='vscode-notebook-cell:/c%3A/Users/PowerUser/Documents/GitHub/11209python_alias/11209python_alias/2023_09_26%E4%BD%9C%E6%A5%AD.ipynb#W0sZmlsZQ%3D%3D?line=32'>33</a>\u001b[0m \u001b[39melif\u001b[39;00m (a1 \u001b[39m==\u001b[39m a2 \u001b[39m==\u001b[39m a3 \u001b[39m==\u001b[39m a4):\n",
      "\u001b[1;31mKeyboardInterrupt\u001b[0m: "
     ]
    }
   ],
   "source": [
    "# 20230926作業 #5\n",
    "'''打香腸規則：\n",
    "\n",
    "一次骰4個骰子\n",
    "如果有2個相同的數字,則另外2數加總。 e.g.1123=5\n",
    "如果有2對2個相同的數字,則較大對數加總。 e.g.1166=12\n",
    "如果有3個相同的數字 && 4個數都不同,就「作廢」。 e.g.1234、3331=作廢\n",
    "如果4個數皆相同,就「豹子」.比3.4.大。 e.g.3333  '''\n",
    "\n",
    "import random\n",
    "import pyinputplus as pyip\n",
    "min = 0\n",
    "max = 0\n",
    "a = 0\n",
    "a1  = random.randrange(1,7)\n",
    "a2  = random.randrange(1,7)\n",
    "a3  = random.randrange(1,7)\n",
    "a4  = random.randrange(1,7)\n",
    "k = int(input(f\"骰子範圍{min}~{max}\"))\n",
    "print(f\"k\")\n",
    "print(\"===============猜骰子遊戲=================:\\n\")\n",
    "\n",
    "while(True):\n",
    "    a += 1\n",
    "    k=''\n",
    "    if (a1 == a2 | a3 != a4):\n",
    "        k = (f\"a3 + a4\")\n",
    "    elif a1 == a2 | a3 == a4:\n",
    "        k = (f\"a1 + a2 or a3 + a4\")\n",
    "    elif (a1 == a2 == a3 and a1 != a2 != a3 !=a4): \n",
    "        k = (f\"此局作廢!\")\n",
    "    elif (a1 == a2 == a3 == a4):\n",
    "        k = (f\"豹子\")\n",
    "\n",
    "print(\"骰子分數為:{ }\")    \n"
   ]
  },
  {
   "cell_type": "code",
   "execution_count": 6,
   "metadata": {},
   "outputs": [
    {
     "name": "stdout",
     "output_type": "stream",
     "text": [
      "***擲骰子遊戲***\n",
      "電腦第 1 次，擲出: [1, 2, 2, 3]\n",
      "4 點\n"
     ]
    },
    {
     "ename": "TypeError",
     "evalue": "'int' object is not callable",
     "output_type": "error",
     "traceback": [
      "\u001b[1;31m---------------------------------------------------------------------------\u001b[0m",
      "\u001b[1;31mTypeError\u001b[0m                                 Traceback (most recent call last)",
      "\u001b[1;32mc:\\Users\\PowerUser\\Documents\\GitHub\\11209python_alias\\11209python_alias\\2023_09_26作業.ipynb 儲存格 2\u001b[0m line \u001b[0;36m4\n\u001b[0;32m     <a href='vscode-notebook-cell:/c%3A/Users/PowerUser/Documents/GitHub/11209python_alias/11209python_alias/2023_09_26%E4%BD%9C%E6%A5%AD.ipynb#W1sZmlsZQ%3D%3D?line=40'>41</a>\u001b[0m c_score \u001b[39m=\u001b[39m rand_dice(\u001b[39m'\u001b[39m\u001b[39m電腦\u001b[39m\u001b[39m'\u001b[39m)\n\u001b[0;32m     <a href='vscode-notebook-cell:/c%3A/Users/PowerUser/Documents/GitHub/11209python_alias/11209python_alias/2023_09_26%E4%BD%9C%E6%A5%AD.ipynb#W1sZmlsZQ%3D%3D?line=41'>42</a>\u001b[0m play \u001b[39m=\u001b[39m \u001b[39mint\u001b[39m(\u001b[39minput\u001b[39m(\u001b[39m'\u001b[39m\u001b[39m請按Enter擲骰子\u001b[39m\u001b[39m'\u001b[39m))\n\u001b[1;32m---> <a href='vscode-notebook-cell:/c%3A/Users/PowerUser/Documents/GitHub/11209python_alias/11209python_alias/2023_09_26%E4%BD%9C%E6%A5%AD.ipynb#W1sZmlsZQ%3D%3D?line=42'>43</a>\u001b[0m u_score \u001b[39m=\u001b[39m rand_dice(\u001b[39m'\u001b[39;49m\u001b[39m玩家\u001b[39;49m\u001b[39m'\u001b[39;49m)\n\u001b[0;32m     <a href='vscode-notebook-cell:/c%3A/Users/PowerUser/Documents/GitHub/11209python_alias/11209python_alias/2023_09_26%E4%BD%9C%E6%A5%AD.ipynb#W1sZmlsZQ%3D%3D?line=43'>44</a>\u001b[0m \u001b[39mif\u001b[39;00m c_score \u001b[39m>\u001b[39m u_score:\n\u001b[0;32m     <a href='vscode-notebook-cell:/c%3A/Users/PowerUser/Documents/GitHub/11209python_alias/11209python_alias/2023_09_26%E4%BD%9C%E6%A5%AD.ipynb#W1sZmlsZQ%3D%3D?line=44'>45</a>\u001b[0m     \u001b[39mprint\u001b[39m (\u001b[39m'\u001b[39m\u001b[39m你輸了!\u001b[39m\u001b[39m'\u001b[39m)\n",
      "\u001b[1;32mc:\\Users\\PowerUser\\Documents\\GitHub\\11209python_alias\\11209python_alias\\2023_09_26作業.ipynb 儲存格 2\u001b[0m line \u001b[0;36m2\n\u001b[0;32m     <a href='vscode-notebook-cell:/c%3A/Users/PowerUser/Documents/GitHub/11209python_alias/11209python_alias/2023_09_26%E4%BD%9C%E6%A5%AD.ipynb#W1sZmlsZQ%3D%3D?line=24'>25</a>\u001b[0m point \u001b[39m=\u001b[39m [random\u001b[39m.\u001b[39mchoice(dice) \u001b[39mfor\u001b[39;00m c \u001b[39min\u001b[39;00m \u001b[39mrange\u001b[39m(\u001b[39m4\u001b[39m)]\n\u001b[0;32m     <a href='vscode-notebook-cell:/c%3A/Users/PowerUser/Documents/GitHub/11209python_alias/11209python_alias/2023_09_26%E4%BD%9C%E6%A5%AD.ipynb#W1sZmlsZQ%3D%3D?line=25'>26</a>\u001b[0m score \u001b[39m=\u001b[39m \u001b[39m-\u001b[39m\u001b[39m1\u001b[39m\n\u001b[1;32m---> <a href='vscode-notebook-cell:/c%3A/Users/PowerUser/Documents/GitHub/11209python_alias/11209python_alias/2023_09_26%E4%BD%9C%E6%A5%AD.ipynb#W1sZmlsZQ%3D%3D?line=26'>27</a>\u001b[0m score \u001b[39m=\u001b[39m score_count(point)\n\u001b[0;32m     <a href='vscode-notebook-cell:/c%3A/Users/PowerUser/Documents/GitHub/11209python_alias/11209python_alias/2023_09_26%E4%BD%9C%E6%A5%AD.ipynb#W1sZmlsZQ%3D%3D?line=27'>28</a>\u001b[0m \u001b[39mprint\u001b[39m( \u001b[39m\"\u001b[39m\u001b[39m%s\u001b[39;00m\u001b[39m第 \u001b[39m\u001b[39m%s\u001b[39;00m\u001b[39m 次，擲出:\u001b[39m\u001b[39m\"\u001b[39m \u001b[39m%\u001b[39m (name, i), point)\n\u001b[0;32m     <a href='vscode-notebook-cell:/c%3A/Users/PowerUser/Documents/GitHub/11209python_alias/11209python_alias/2023_09_26%E4%BD%9C%E6%A5%AD.ipynb#W1sZmlsZQ%3D%3D?line=28'>29</a>\u001b[0m \u001b[39mif\u001b[39;00m score \u001b[39m==\u001b[39m \u001b[39m19\u001b[39m:\n",
      "\u001b[1;32mc:\\Users\\PowerUser\\Documents\\GitHub\\11209python_alias\\11209python_alias\\2023_09_26作業.ipynb 儲存格 2\u001b[0m line \u001b[0;36m9\n\u001b[0;32m      <a href='vscode-notebook-cell:/c%3A/Users/PowerUser/Documents/GitHub/11209python_alias/11209python_alias/2023_09_26%E4%BD%9C%E6%A5%AD.ipynb#W1sZmlsZQ%3D%3D?line=6'>7</a>\u001b[0m     score \u001b[39m=\u001b[39m \u001b[39m19\u001b[39m\n\u001b[0;32m      <a href='vscode-notebook-cell:/c%3A/Users/PowerUser/Documents/GitHub/11209python_alias/11209python_alias/2023_09_26%E4%BD%9C%E6%A5%AD.ipynb#W1sZmlsZQ%3D%3D?line=7'>8</a>\u001b[0m \u001b[39melif\u001b[39;00m check \u001b[39m==\u001b[39m \u001b[39m2\u001b[39m:\n\u001b[1;32m----> <a href='vscode-notebook-cell:/c%3A/Users/PowerUser/Documents/GitHub/11209python_alias/11209python_alias/2023_09_26%E4%BD%9C%E6%A5%AD.ipynb#W1sZmlsZQ%3D%3D?line=8'>9</a>\u001b[0m     \u001b[39mif\u001b[39;00m point\u001b[39m.\u001b[39mcount(\u001b[39mmax\u001b[39;49m(point)) \u001b[39m==\u001b[39m \u001b[39m2\u001b[39m:\n\u001b[0;32m     <a href='vscode-notebook-cell:/c%3A/Users/PowerUser/Documents/GitHub/11209python_alias/11209python_alias/2023_09_26%E4%BD%9C%E6%A5%AD.ipynb#W1sZmlsZQ%3D%3D?line=9'>10</a>\u001b[0m         score \u001b[39m=\u001b[39m \u001b[39mmax\u001b[39m(point) \u001b[39m*\u001b[39m \u001b[39m2\u001b[39m\n\u001b[0;32m     <a href='vscode-notebook-cell:/c%3A/Users/PowerUser/Documents/GitHub/11209python_alias/11209python_alias/2023_09_26%E4%BD%9C%E6%A5%AD.ipynb#W1sZmlsZQ%3D%3D?line=10'>11</a>\u001b[0m     \u001b[39melse\u001b[39;00m:\n",
      "\u001b[1;31mTypeError\u001b[0m: 'int' object is not callable"
     ]
    }
   ],
   "source": [
    "import random\n",
    "\n",
    "def score_count(point):\n",
    "    score = 0\n",
    "    check = len([i for i in set(point)])\n",
    "    if check == 1:\n",
    "        score = 19\n",
    "    elif check == 2:\n",
    "        if point.count(max(point)) == 2:\n",
    "            score = max(point) * 2\n",
    "        else:\n",
    "            score = 0\n",
    "    elif check == 3:\n",
    "        for i in point:\n",
    "            if point.count(i) == 1:\n",
    "                score += i\n",
    "    else:\n",
    "        score = 0\n",
    "    return score\n",
    "\n",
    "def rand_dice(name):\n",
    "    i = 1\n",
    "    score = 0\n",
    "    while not score:\n",
    "        point = [random.choice(dice) for c in range(4)]\n",
    "        score = -1\n",
    "        score = score_count(point)\n",
    "        print( \"%s第 %s 次，擲出:\" % (name, i), point)\n",
    "        if score == 19:\n",
    "            print( \"一色\")\n",
    "        else:\n",
    "            print( score, \"點\")\n",
    "        i += 1\n",
    "    return score\n",
    "\n",
    "print (\"***擲骰子遊戲***\")\n",
    "win, lose = 0, 0\n",
    "dice = [i for i in range(1,7)]\n",
    "\n",
    "while 1:\n",
    "    c_score = rand_dice('電腦')\n",
    "    play = int(input('請按Enter擲骰子'))\n",
    "    u_score = rand_dice('玩家')\n",
    "    if c_score > u_score:\n",
    "        print ('你輸了!')\n",
    "        lose += 1\n",
    "    elif c_score < u_score:\n",
    "        print ('你贏了!')\n",
    "        win += 1\n",
    "    else:\n",
    "        print ('平手！')\n",
    "    print( '目前戰績%s勝%s負' % (win, lose))\n",
    "    play = int(input('是否繼續(y/n)?'))\n",
    "    if play in ('n', 'N'):\n",
    "        print ('目前戰績%s勝%s負' % (win, lose))\n",
    "        print ('Good Bye!')\n",
    "        break\n",
    "    else:\n",
    "        pass"
   ]
  }
 ],
 "metadata": {
  "kernelspec": {
   "display_name": "Python 3",
   "language": "python",
   "name": "python3"
  },
  "language_info": {
   "codemirror_mode": {
    "name": "ipython",
    "version": 3
   },
   "file_extension": ".py",
   "mimetype": "text/x-python",
   "name": "python",
   "nbconvert_exporter": "python",
   "pygments_lexer": "ipython3",
   "version": "3.10.8"
  },
  "orig_nbformat": 4
 },
 "nbformat": 4,
 "nbformat_minor": 2
}
