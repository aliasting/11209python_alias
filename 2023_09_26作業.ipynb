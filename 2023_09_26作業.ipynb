{
 "cells": [
  {
   "cell_type": "code",
   "execution_count": 3,
   "metadata": {},
   "outputs": [
    {
     "ename": "ModuleNotFoundError",
     "evalue": "No module named 'pyinputplus'",
     "output_type": "error",
     "traceback": [
      "\u001b[1;31m---------------------------------------------------------------------------\u001b[0m",
      "\u001b[1;31mModuleNotFoundError\u001b[0m                       Traceback (most recent call last)",
      "\u001b[1;32mc:\\Users\\User\\Documents\\github\\11209python_alias\\2023_09_26作業.ipynb 儲存格 1\u001b[0m line \u001b[0;36m1\n\u001b[0;32m      <a href='vscode-notebook-cell:/c%3A/Users/User/Documents/github/11209python_alias/2023_09_26%E4%BD%9C%E6%A5%AD.ipynb#W0sZmlsZQ%3D%3D?line=1'>2</a>\u001b[0m \u001b[39m'''打香腸規則：\u001b[39;00m\n\u001b[0;32m      <a href='vscode-notebook-cell:/c%3A/Users/User/Documents/github/11209python_alias/2023_09_26%E4%BD%9C%E6%A5%AD.ipynb#W0sZmlsZQ%3D%3D?line=2'>3</a>\u001b[0m \n\u001b[0;32m      <a href='vscode-notebook-cell:/c%3A/Users/User/Documents/github/11209python_alias/2023_09_26%E4%BD%9C%E6%A5%AD.ipynb#W0sZmlsZQ%3D%3D?line=3'>4</a>\u001b[0m \u001b[39m一次骰4個骰子\u001b[39;00m\n\u001b[1;32m   (...)\u001b[0m\n\u001b[0;32m      <a href='vscode-notebook-cell:/c%3A/Users/User/Documents/github/11209python_alias/2023_09_26%E4%BD%9C%E6%A5%AD.ipynb#W0sZmlsZQ%3D%3D?line=6'>7</a>\u001b[0m \u001b[39m如果有3個相同的數字 && 4個數都不同,就「作廢」。 e.g.1234、3331=作廢\u001b[39;00m\n\u001b[0;32m      <a href='vscode-notebook-cell:/c%3A/Users/User/Documents/github/11209python_alias/2023_09_26%E4%BD%9C%E6%A5%AD.ipynb#W0sZmlsZQ%3D%3D?line=7'>8</a>\u001b[0m \u001b[39m如果4個數皆相同,就「豹子」.比3.4.大。 e.g.3333  '''\u001b[39;00m\n\u001b[0;32m     <a href='vscode-notebook-cell:/c%3A/Users/User/Documents/github/11209python_alias/2023_09_26%E4%BD%9C%E6%A5%AD.ipynb#W0sZmlsZQ%3D%3D?line=9'>10</a>\u001b[0m \u001b[39mimport\u001b[39;00m \u001b[39mrandom\u001b[39;00m\n\u001b[1;32m---> <a href='vscode-notebook-cell:/c%3A/Users/User/Documents/github/11209python_alias/2023_09_26%E4%BD%9C%E6%A5%AD.ipynb#W0sZmlsZQ%3D%3D?line=10'>11</a>\u001b[0m \u001b[39mimport\u001b[39;00m \u001b[39mpyinputplus\u001b[39;00m \u001b[39mas\u001b[39;00m \u001b[39mpyip\u001b[39;00m\n\u001b[0;32m     <a href='vscode-notebook-cell:/c%3A/Users/User/Documents/github/11209python_alias/2023_09_26%E4%BD%9C%E6%A5%AD.ipynb#W0sZmlsZQ%3D%3D?line=11'>12</a>\u001b[0m \u001b[39mmin\u001b[39m \u001b[39m=\u001b[39m \u001b[39m0\u001b[39m\n\u001b[0;32m     <a href='vscode-notebook-cell:/c%3A/Users/User/Documents/github/11209python_alias/2023_09_26%E4%BD%9C%E6%A5%AD.ipynb#W0sZmlsZQ%3D%3D?line=12'>13</a>\u001b[0m \u001b[39mmax\u001b[39m \u001b[39m=\u001b[39m \u001b[39m0\u001b[39m\n",
      "\u001b[1;31mModuleNotFoundError\u001b[0m: No module named 'pyinputplus'"
     ]
    }
   ],
   "source": [
    "# 20230926作業 #5\n",
    "'''打香腸規則：\n",
    "\n",
    "一次骰4個骰子\n",
    "如果有2個相同的數字,則另外2數加總。 e.g.1123=5\n",
    "如果有2對2個相同的數字,則較大對數加總。 e.g.1166=12\n",
    "如果有3個相同的數字 && 4個數都不同,就「作廢」。 e.g.1234、3331=作廢\n",
    "如果4個數皆相同,就「豹子」.比3.4.大。 e.g.3333  '''\n",
    "\n",
    "import random\n",
    "import pyinputplus as pyip\n",
    "\n",
    "min = 0\n",
    "max = 0\n",
    "a = 0\n",
    "a1  = random.randrange(1,6)\n",
    "a2  = random.randrange(1,6)\n",
    "a3  = random.randrange(1,6)\n",
    "a4  = random.randrange(1,6)\n",
    "k = int((f\"骰子範圍{min}~{max}\"))\n",
    "print(f\"k\")\n",
    "print(\"===============猜骰子遊戲=================:\\n\")\n",
    "\n",
    "while(True):\n",
    "    a += 1\n",
    "    k=''\n",
    "    if (a1 == a2 | a3 != a4):\n",
    "        k = (f\"a3 + a4\")\n",
    "    elif a1 == a2 | a3 == a4:\n",
    "        k = (f\"a1 + a2 or a3 + a4\")\n",
    "    elif (a1 == a2 == a3 and a1 != a2 != a3 !=a4): \n",
    "        k = (f\"此局作廢!\")\n",
    "    elif (a1 == a2 == a3 == a4):\n",
    "        k = (f\"豹子\")\n",
    "\n",
    "print(\"骰子分數為:{ }\")    \n"
   ]
  }
 ],
 "metadata": {
  "kernelspec": {
   "display_name": "Python 3",
   "language": "python",
   "name": "python3"
  },
  "language_info": {
   "codemirror_mode": {
    "name": "ipython",
    "version": 3
   },
   "file_extension": ".py",
   "mimetype": "text/x-python",
   "name": "python",
   "nbconvert_exporter": "python",
   "pygments_lexer": "ipython3",
   "version": "3.10.8"
  },
  "orig_nbformat": 4
 },
 "nbformat": 4,
 "nbformat_minor": 2
}
