{
 "cells": [
  {
   "cell_type": "code",
   "execution_count": null,
   "metadata": {},
   "outputs": [],
   "source": [
    "'''\n",
    "#求所有因數\n",
    "num = int(input(\"請輸入整數，求所有因數:\"))\n",
    "print(num,\"的因數:\")\n",
    "\n",
    "#求公因數\n",
    "print(\"請輸入2數,求2數公因數:\")\n",
    "n = int(input('請輸入第1個數:'))\n",
    "m = int(input('請輸入第2個數:'))\n",
    "\n",
    "#2~100,每一個的質數\n",
    "end = int(input(\"請輸入end值:\"))\n",
    "print(f\"1到{end}的質數是:\")\n",
    "'''"
   ]
  },
  {
   "cell_type": "code",
   "execution_count": 11,
   "metadata": {},
   "outputs": [
    {
     "name": "stdout",
     "output_type": "stream",
     "text": [
      "17的因數: 1 ; 17 ; "
     ]
    }
   ],
   "source": [
    "#求所有因數\n",
    "num = int(input(\"請輸入整數，求所有因數:\"))\n",
    "print(f\"{num}的因數:\", end=\" \")\n",
    "\n",
    "for i in range (1, num+1):\n",
    "    if num % i == 0:\n",
    "        print(i, end=\" ; \")"
   ]
  },
  {
   "cell_type": "code",
   "execution_count": 7,
   "metadata": {},
   "outputs": [
    {
     "name": "stdout",
     "output_type": "stream",
     "text": [
      "請輸入2數,求2數公因數:\n",
      "第一個數為15\n",
      "第二個數為17\n",
      "兩數的公因數為: 1, "
     ]
    }
   ],
   "source": [
    "#求公因數\n",
    "n = int(input('請輸入第1個數:'))            \n",
    "m = int(input('請輸入第2個數:'))            \n",
    "print(\"請輸入2數,求2數公因數:\")             \n",
    "print(f'第一個數為{n}')                    \n",
    "print(f'第二個數為{m}')                     \n",
    "print('兩數的公因數為:', end=' ')           \n",
    "\n",
    "for x in range(1, n+1):\n",
    "    if n % x == 0:                          \n",
    "        for y in range(1, m+1):             \n",
    "            if m % y == 0 and x == y:       \n",
    "                print(y, end=', ') "
   ]
  },
  {
   "cell_type": "code",
   "execution_count": 6,
   "metadata": {},
   "outputs": [
    {
     "name": "stdout",
     "output_type": "stream",
     "text": [
      "17是一個質數\n"
     ]
    }
   ],
   "source": [
    "#2~100,每一個的質數\n",
    "end = int(input(\"請輸入end值:\"))\n",
    "\n",
    "if end < 2:\n",
    "   print(\"質數須為>1的正整數\")\n",
    "else:\n",
    "   total = 0\n",
    "   for i in range(1,end+1):\n",
    "      if end % i == 0:\n",
    "         total += i\n",
    "   if total == 1 + end:               \n",
    "        print(f'{end}是一個質數')\n",
    "   else:\n",
    "        print(f'{end}不是一個質數')\n"
   ]
  },
  {
   "cell_type": "code",
   "execution_count": null,
   "metadata": {},
   "outputs": [],
   "source": []
  }
 ],
 "metadata": {
  "kernelspec": {
   "display_name": "Python 3",
   "language": "python",
   "name": "python3"
  },
  "language_info": {
   "codemirror_mode": {
    "name": "ipython",
    "version": 3
   },
   "file_extension": ".py",
   "mimetype": "text/x-python",
   "name": "python",
   "nbconvert_exporter": "python",
   "pygments_lexer": "ipython3",
   "version": "3.10.8"
  },
  "orig_nbformat": 4
 },
 "nbformat": 4,
 "nbformat_minor": 2
}
