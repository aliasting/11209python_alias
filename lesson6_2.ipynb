import pyinputplus as pyip

help(pyip.inputStr)
