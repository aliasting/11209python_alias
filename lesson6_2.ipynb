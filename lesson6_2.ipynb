import pyinputplus as pyip

help(pyip.inputStr)
Help on function inputStr in module pyinputplus:

inputStr(prompt='', default=None, blank=False, timeout=None, limit=None, strip=None, allowRegexes=None, blockRegexes=None, applyFunc=None, postValidateApplyFunc=None)
    Prompts the user to enter any string input. This is similar to Python's ``input()``
    and ``raw_input()`` functions, but with PyInputPlus's additional features
    such as timeouts, retry limits, stripping, allowlist/blocklist, etc.
    
    Validation can be performed by the validationFunc argument, which raises
    an exception if the input is invalid. The exception message is used to
    tell the user why the input is invalid.
    
    Run ``help(pyinputplus.parameters)`` for an explanation of the common parameters.
    
    >>> result = inputStr('Enter name> ')
    Enter name> Al
    >>> result
    'Al'
