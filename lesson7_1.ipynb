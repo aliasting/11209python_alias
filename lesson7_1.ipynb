{
 "cells": [
  {
   "cell_type": "code",
   "execution_count": 1,
   "metadata": {},
   "outputs": [
    {
     "name": "stdout",
     "output_type": "stream",
     "text": [
      "請輸入分數:88\n",
      "甲\n"
     ]
    }
   ],
   "source": [
    "# 90(含)~100分為「優」\n",
    "# 80(含)~89分為「甲」\n",
    "# 70(含)~79分為「乙」\n",
    "# 60(含)~69分為「丙」\n",
    "# 0(含)~59分為「丁」\n",
    "import pyinputplus as pyip\n",
    "scores = pyip.inputInt(prompt=\"請輸入分數:\",min=0,max=100)\n",
    "print(scores)\n",
    "message = \"\"\n",
    "#巢狀判斷,4個if\n",
    "if scores >= 90:\n",
    "    message = \"優\"\n",
    "else:\n",
    "    if scores >= 80:\n",
    "        message = \"甲\"\n",
    "    else:\n",
    "        if scores >= 70:\n",
    "            message = \"乙\"\n",
    "        else:\n",
    "            if scores >= 60:\n",
    "                message = \"丙\"\n",
    "            else:\n",
    "                message = \"丁\"\n",
    "print(message)"
   ]
  },
  {
   "cell_type": "code",
   "execution_count": 2,
   "metadata": {},
   "outputs": [
    {
     "name": "stdout",
     "output_type": "stream",
     "text": [
      "請輸入分數:68\n",
      "丙\n"
     ]
    }
   ],
   "source": [
    "# 90(含)~100分為「優」\n",
    "# 80(含)~89分為「甲」\n",
    "# 70(含)~79分為「乙」\n",
    "# 60(含)~69分為「丙」\n",
    "# 0(含)~59分為「丁」\n",
    "import pyinputplus as pyip\n",
    "scores = pyip.inputInt(prompt=\"請輸入分數:\",min=0,max=100)\n",
    "print(scores)\n",
    "message = \"\"\n",
    "#多項選擇,1個if\n",
    "if scores >= 90:\n",
    "    message = \"優\"\n",
    "elif scores >= 80:    \n",
    "    message = \"甲\"\n",
    "elif scores >= 70:     \n",
    "    message = \"乙\"\n",
    "elif scores >= 60:     \n",
    "    message = \"丙\"\n",
    "else:\n",
    "    message = \"丁\"\n",
    "print(message)"
   ]
  },
  {
   "cell_type": "code",
   "execution_count": null,
   "metadata": {},
   "outputs": [],
   "source": [
    "#輸入顧客購買金額，若金額在\n",
    "#100000元打8折. \n",
    "#50000打85折. \n",
    "#30000打9折. \n",
    "#10000打95折. \n",
    "\n",
    "#請輸入購買金額:130000\n",
    "#實付金額是: 104000.0 元\n"
   ]
  },
  {
   "cell_type": "code",
   "execution_count": 3,
   "metadata": {},
   "outputs": [
    {
     "name": "stdout",
     "output_type": "stream",
     "text": [
      "請輸入顧客購買金額:130000\n",
      "8折 \n"
     ]
    }
   ],
   "source": [
    "import pyinputplus as pyip\n",
    "a = pyip.inputInt(prompt=\"請輸入顧客購買金額:\",)\n",
    "print(a)\n",
    "message = \"\"\n",
    "#多項選擇,1個if\n",
    "if a >= 100000:\n",
    "    message = \"8折 \"\n",
    "elif a >= 50000:    \n",
    "    message = \"85折\"\n",
    "elif a >= 30000:     \n",
    "    message = \"9折\"\n",
    "elif a >= 10000:     \n",
    "    message = \"95折\"\n",
    "else:\n",
    "    message = \"不打折\"\n",
    "print()"
   ]
  },
  {
   "cell_type": "code",
   "execution_count": 8,
   "metadata": {},
   "outputs": [
    {
     "name": "stdout",
     "output_type": "stream",
     "text": [
      "請輸入顧客購買金額:130000\n",
      "實付金額:,Paymoney,元\n"
     ]
    }
   ],
   "source": [
    "import pyinputplus as pyip\n",
    "a = pyip.inputInt(\"請輸入顧客購買金額:\",)\n",
    "print(a)\n",
    "Paymoney = \"\"\n",
    "#多項選擇,1個if\n",
    "if a >= 100000:\n",
    "    Paymoney = a* 0.8\n",
    "elif a >= 50000:    \n",
    "    Paymoney = a * 0.85\n",
    "elif a >= 30000:     \n",
    "    Paymoney = a * 0.9\n",
    "elif a >= 10000:     \n",
    "    Paymoney = a * 0.95\n",
    "else:\n",
    "    Paymoney = a\n",
    "\n",
    "print('實付金額:,Paymoney, '元')"
   ]
  },
  {
   "cell_type": "code",
   "execution_count": 7,
   "metadata": {},
   "outputs": [
    {
     "name": "stdout",
     "output_type": "stream",
     "text": [
      "請輸入購買金額:130000\n",
      "實付金額是: 104000.0 元\n"
     ]
    }
   ],
   "source": [
    "#輸入顧客購買金額，若金額在\n",
    "#100000元打8折. \n",
    "#50000打85折. \n",
    "#30000打9折. \n",
    "#10000打95折. \n",
    "\n",
    "#請輸入購買金額:130000\n",
    "#實付金額是: 104000.0 元\n",
    "\n",
    "money = pyip.inputInt(\"請輸入購買金額:\")\n",
    "print(money)\n",
    "if money >= 100000:\n",
    "    payMoney = money * 0.8\n",
    "elif money >= 50000:\n",
    "    payMoney = money * 0.85\n",
    "elif money >= 30000:\n",
    "    payMoney = money * 0.9\n",
    "elif money >= 10000:\n",
    "    payMoney = money * 0.95\n",
    "else:\n",
    "    payMoney = money\n",
    "\n",
    "print('實付金額是:', payMoney, '元')"
   ]
  },
  {
   "cell_type": "code",
   "execution_count": 9,
   "metadata": {},
   "outputs": [
    {
     "name": "stdout",
     "output_type": "stream",
     "text": [
      "請輸入購買金額:150000\n",
      "實付金額是: 108000.0 元\n"
     ]
    }
   ],
   "source": [
    "#輸入顧客購買金額\n",
    "#滿千送百後再打折\n",
    "#100000元打8折. \n",
    "#50000打85折. \n",
    "#30000打9折. \n",
    "#10000打95折.\n",
    "\n",
    "money = pyip.inputInt(\"請輸入購買金額:\")\n",
    "print(money)\n",
    "\n",
    "discount = money // 1000 * 100\n",
    "money -= discount\n",
    "\n",
    "if money >= 100000:\n",
    "    payMoney = money * 0.8\n",
    "elif money >= 50000:\n",
    "    payMoney = money * 0.85\n",
    "elif money >= 30000:\n",
    "    payMoney = money * 0.9\n",
    "elif money >= 10000:\n",
    "    payMoney = money * 0.95\n",
    "else:\n",
    "    payMoney = money\n",
    "\n",
    "print('實付金額是:', payMoney, '元')\n",
    "\n"
   ]
  },
  {
   "cell_type": "code",
   "execution_count": 21,
   "metadata": {},
   "outputs": [
    {
     "name": "stdout",
     "output_type": "stream",
     "text": [
      "請輸入顧客購買金額:150000\n",
      "實付金額: 108000.0 元\n"
     ]
    }
   ],
   "source": [
    "\n",
    "price = pyip.inputInt(\"請輸入顧客購買金額:\",)\n",
    "print(price)\n",
    "\n",
    "discount = price//1000*100\n",
    "price -= discount\n",
    "\n",
    "#多項選擇,1個if\n",
    "if price >= 100000:\n",
    "    new_price = price * 0.8\n",
    "elif a >= 50000:    \n",
    "    new_price = price * 0.85\n",
    "elif a >= 30000:     \n",
    "   new_price = price * 0.9\n",
    "elif a >= 10000:     \n",
    "    new_price = price * 0.95\n",
    "else:\n",
    "    new_price = price * 1\\\n",
    "    \n",
    "print('實付金額:',new_price, '元')"
   ]
  },
  {
   "cell_type": "code",
   "execution_count": 16,
   "metadata": {},
   "outputs": [
    {
     "name": "stdout",
     "output_type": "stream",
     "text": [
      "請輸入國文分數:99\n",
      "請輸入數學分數:100\n",
      "獎金:500\n"
     ]
    }
   ],
   "source": [
    "chinese = pyip.inputInt(\"請輸入國文分數:\")\n",
    "print(chinese)\n",
    "math = pyip.inputInt(\"請輸入數學分數:\")\n",
    "print(math)\n",
    "\n",
    "if chinese == 100 and math == 100:\n",
    "    bonus = 1000\n",
    "elif chinese == 100 or math == 100:\n",
    "    bonus = 500\n",
    "else:\n",
    "    bonus = 0\n",
    "\n",
    "print(f\"獎金:{bonus}\")"
   ]
  }
 ],
 "metadata": {
  "kernelspec": {
   "display_name": ".venv",
   "language": "python",
   "name": "python3"
  },
  "language_info": {
   "codemirror_mode": {
    "name": "ipython",
    "version": 3
   },
   "file_extension": ".py",
   "mimetype": "text/x-python",
   "name": "python",
   "nbconvert_exporter": "python",
   "pygments_lexer": "ipython3",
   "version": "3.10.8"
  },
  "orig_nbformat": 4
 },
 "nbformat": 4,
 "nbformat_minor": 2
}
