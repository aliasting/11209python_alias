{
 "cells": [
  {
   "cell_type": "code",
   "execution_count": 3,
   "metadata": {},
   "outputs": [
    {
     "name": "stdout",
     "output_type": "stream",
     "text": [
      "True\n"
     ]
    }
   ],
   "source": [
    "file = open('students.csv',encoding='utf-8',mode='r',newline='')\n",
    "file.close() #實體方法\n",
    "print(file.closed) #實體attribute"
   ]
  },
  {
   "cell_type": "code",
   "execution_count": 1,
   "metadata": {},
   "outputs": [
    {
     "name": "stdout",
     "output_type": "stream",
     "text": [
      "True\n"
     ]
    }
   ],
   "source": [
    "try:\n",
    "    file = open('students.csv',encoding='utf-8',mode='r',newline='')\n",
    "    file.close() #實體方法\n",
    "    print(file.closed) #實體attribute\n",
    "except:\n",
    "    print(\"讀取錯誤\")"
   ]
  },
  {
   "cell_type": "code",
   "execution_count": 4,
   "metadata": {},
   "outputs": [
    {
     "name": "stdout",
     "output_type": "stream",
     "text": [
      "姓名,國文,英文,數學,地理,歷史\n",
      "徐國堂,93,74,92,89,75\n",
      "郭在得,75,85,94,78,59\n",
      "True\n"
     ]
    }
   ],
   "source": [
    "try:\n",
    "    file = open('students.csv',encoding='utf-8',mode='r',newline='')    \n",
    "    print(file.read())\n",
    "    file.close() #實體方法\n",
    "    print(file.closed) #實體attribute\n",
    "except:\n",
    "    print(\"讀取錯誤\")"
   ]
  },
  {
   "cell_type": "code",
   "execution_count": 5,
   "metadata": {},
   "outputs": [
    {
     "name": "stdout",
     "output_type": "stream",
     "text": [
      "姓名,國文,英文,數學,地理,歷史\n",
      "\n",
      "徐國堂,93,74,92,89,75\n",
      "\n",
      "郭在得,75,85,94,78,59\n",
      "True\n"
     ]
    }
   ],
   "source": [
    "try:\n",
    "    file = open('students.csv',encoding='utf-8',mode='r',newline='')    \n",
    "    print(file.readline())\n",
    "    print(file.readline())\n",
    "    print(file.readline())\n",
    "    file.close() #實體方法\n",
    "    print(file.closed) #實體attribute\n",
    "except:\n",
    "    print(\"讀取錯誤\")"
   ]
  },
  {
   "cell_type": "code",
   "execution_count": 6,
   "metadata": {},
   "outputs": [
    {
     "name": "stdout",
     "output_type": "stream",
     "text": [
      "<class '_csv.reader'>\n",
      "['姓名', '國文', '英文', '數學', '地理', '歷史']\n",
      "['徐國堂', '93', '74', '92', '89', '75']\n",
      "['郭在得', '75', '85', '94', '78', '59']\n",
      "True\n"
     ]
    }
   ],
   "source": [
    "import csv\n",
    "\n",
    "try:\n",
    "    file = open('students.csv',encoding='utf-8',mode='r',newline='')    \n",
    "    csv_reader = csv.reader(file)\n",
    "    print(type(csv_reader))\n",
    "    for row in csv_reader:\n",
    "        print(row)\n",
    "    file.close() #實體方法\n",
    "    print(file.closed) #實體attribute\n",
    "except:\n",
    "    print(\"讀取錯誤\")"
   ]
  },
  {
   "cell_type": "code",
   "execution_count": 7,
   "metadata": {},
   "outputs": [
    {
     "name": "stdout",
     "output_type": "stream",
     "text": [
      "True\n"
     ]
    },
    {
     "data": {
      "text/plain": [
       "[['姓名', '國文', '英文', '數學', '地理', '歷史'],\n",
       " ['徐國堂', '93', '74', '92', '89', '75'],\n",
       " ['郭在得', '75', '85', '94', '78', '59']]"
      ]
     },
     "execution_count": 7,
     "metadata": {},
     "output_type": "execute_result"
    }
   ],
   "source": [
    "import csv\n",
    "\n",
    "try:\n",
    "    file = open('students.csv',encoding='utf-8',mode='r',newline='')    \n",
    "    csv_reader = csv.reader(file)\n",
    "    csv_list = list(csv_reader)\n",
    "    file.close() #實體方法\n",
    "    print(file.closed) #實體attribute\n",
    "except:\n",
    "    print(\"讀取錯誤\")\n",
    "\n",
    "csv_list\n",
    "# print(csv_list)會一整列"
   ]
  },
  {
   "cell_type": "code",
   "execution_count": 8,
   "metadata": {},
   "outputs": [
    {
     "data": {
      "text/plain": [
       "['郭在得', '75', '85', '94', '78', '59']"
      ]
     },
     "execution_count": 8,
     "metadata": {},
     "output_type": "execute_result"
    }
   ],
   "source": [
    "csv_list[2]"
   ]
  },
  {
   "cell_type": "code",
   "execution_count": 9,
   "metadata": {},
   "outputs": [
    {
     "name": "stdout",
     "output_type": "stream",
     "text": [
      "True\n",
      "[['姓名', '國文', '英文', '數學', '地理', '歷史'], ['徐國堂', '93', '74', '92', '89', '75'], ['郭在得', '75', '85', '94', '78', '59']]\n"
     ]
    }
   ],
   "source": [
    "import csv\n",
    "\n",
    "try:\n",
    "    file = open('students.csv',encoding='utf-8',mode='r',newline='')    \n",
    "    csv_reader = csv.reader(file)\n",
    "    csv_list = list(csv_reader)\n",
    "    file.close() #實體方法\n",
    "    print(file.closed) #實體attribute\n",
    "except:\n",
    "    print(\"讀取錯誤\")\n",
    "\n",
    "#csv_list\n",
    "print(csv_list) #會一整列"
   ]
  },
  {
   "cell_type": "code",
   "execution_count": 10,
   "metadata": {},
   "outputs": [
    {
     "data": {
      "text/plain": [
       "[{'姓名': '徐國堂', '國文': '93', '英文': '74', '數學': '92', '地理': '89', '歷史': '75'},\n",
       " {'姓名': '郭在得', '國文': '75', '英文': '85', '數學': '94', '地理': '78', '歷史': '59'}]"
      ]
     },
     "execution_count": 10,
     "metadata": {},
     "output_type": "execute_result"
    }
   ],
   "source": [
    "import csv\n",
    "\n",
    "try:\n",
    "    file = open('students.csv',encoding='utf-8',mode='r',newline='')    \n",
    "    csv_dictReader = csv.DictReader(file)\n",
    "    csv_list = list(csv_dictReader)\n",
    "    file.close() #實體方法\n",
    "    \n",
    "except:\n",
    "    print(\"讀取錯誤\")\n",
    "\n",
    "csv_list"
   ]
  }
 ],
 "metadata": {
  "kernelspec": {
   "display_name": ".venv",
   "language": "python",
   "name": "python3"
  },
  "language_info": {
   "codemirror_mode": {
    "name": "ipython",
    "version": 3
   },
   "file_extension": ".py",
   "mimetype": "text/x-python",
   "name": "python",
   "nbconvert_exporter": "python",
   "pygments_lexer": "ipython3",
   "version": "3.10.8"
  }
 },
 "nbformat": 4,
 "nbformat_minor": 2
}
